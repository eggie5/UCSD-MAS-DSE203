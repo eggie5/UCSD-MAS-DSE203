{
 "cells": [
  {
   "cell_type": "markdown",
   "metadata": {},
   "source": [
    "# Data Matching\n",
    "\n",
    "A major topic of ETL is string matching and data matching. While string matching returns a simularity score between two strings, data matching returning a simularity between two two tuples (rows) in a database. For example, we would like to determine whether the tuples `(David Smith, 608-245-4367, Madison WI)` and `(D. M. Smith, 245-4367, Madison WI)` refer to the same person.\n",
    "\n",
    "The problem of data matching arises in many integration situations. In the simplest case, we may be merging multiple databases with identical schemas, but without a unique global ID, and want to decide which rows are duplicates. The problem is complicated when we need to join rows from sources that have different schemas. Data matching may also arise at query time. For example, a query may often imprecisely refer to a particular data item, e.g., a query asking for the phone number of a David Smith who lives in Madison. We need to employ data matching techniques to decide which tuples in the database match the query.\n",
    "\n",
    "In this project, we will complete a cross-dataset join across two terrorism databases w/ differnent schemas: GTD and GDELT.\n",
    "\n",
    "## Techniques\n",
    "\n",
    "We cover several classes of solutions to the data matching problem. The first kind employs handcrafted rules, or **Rule-based Matching** to match tuples. These techniques typically make heavy use of domain-specific knowledge in domains where the complexity of the rules is manageable. The next kind of solution, **Learning-based Matching** learns the appropriate rules from labeled examples, using supervised learning. The third kind, **clustering** does not use training data. Instead, it iteratively assigns tuples to clusters, such that all tuples within a single cluster match and those across clusters do not."
   ]
  },
  {
   "cell_type": "code",
   "execution_count": 1,
   "metadata": {
    "collapsed": false
   },
   "outputs": [
    {
     "name": "stdout",
     "output_type": "stream",
     "text": [
      "Populating the interactive namespace from numpy and matplotlib\n"
     ]
    }
   ],
   "source": [
    "import pandas as pd\n",
    "%pylab inline"
   ]
  },
  {
   "cell_type": "markdown",
   "metadata": {},
   "source": [
    "## Data\n",
    "\n",
    "Load the two datasets"
   ]
  },
  {
   "cell_type": "code",
   "execution_count": 2,
   "metadata": {
    "collapsed": true
   },
   "outputs": [],
   "source": [
    "gtd=pd.read_excel(\"data/gtd_12to15_0616dist.xlsx\")"
   ]
  },
  {
   "cell_type": "code",
   "execution_count": 3,
   "metadata": {
    "collapsed": false
   },
   "outputs": [
    {
     "name": "stderr",
     "output_type": "stream",
     "text": [
      "/usr/local/lib/python2.7/site-packages/IPython/core/interactiveshell.py:2902: DtypeWarning: Columns (8,9,10,11,14,19) have mixed types. Specify dtype option on import or set low_memory=False.\n",
      "  interactivity=interactivity, compiler=compiler, result=result)\n"
     ]
    }
   ],
   "source": [
    "headers = pd.read_excel(\"data/GDELT Metadata.xlsx\").columns.values\n",
    "gdelt = pd.read_csv(\"data/20150108.export.txt\", delimiter=\"\\t\", names=headers)"
   ]
  },
  {
   "cell_type": "markdown",
   "metadata": {},
   "source": [
    "### Cleaning\n",
    "\n",
    "Remove tuples where lat/lng or date is na"
   ]
  },
  {
   "cell_type": "code",
   "execution_count": 65,
   "metadata": {
    "collapsed": false
   },
   "outputs": [],
   "source": [
    "gtd = gtd.dropna(subset=['latitude', 'longitude', 'iday'])"
   ]
  },
  {
   "cell_type": "markdown",
   "metadata": {
    "collapsed": false
   },
   "source": [
    "## Common Years\n",
    "\n",
    "The two datasets intersect for years 2014-2015"
   ]
  },
  {
   "cell_type": "code",
   "execution_count": 4,
   "metadata": {
    "collapsed": false
   },
   "outputs": [
    {
     "data": {
      "text/plain": [
       "2014    16840\n",
       "2015    14806\n",
       "2013    11990\n",
       "2012     8498\n",
       "Name: iyear, dtype: int64"
      ]
     },
     "execution_count": 4,
     "metadata": {},
     "output_type": "execute_result"
    }
   ],
   "source": [
    "gtd.iyear.value_counts()"
   ]
  },
  {
   "cell_type": "code",
   "execution_count": 5,
   "metadata": {
    "collapsed": false
   },
   "outputs": [
    {
     "data": {
      "text/plain": [
       "2015    159954\n",
       "2014      2792\n",
       "2005        44\n",
       "Name: Year, dtype: int64"
      ]
     },
     "execution_count": 5,
     "metadata": {},
     "output_type": "execute_result"
    }
   ],
   "source": [
    "gdelt.Year.value_counts()"
   ]
  },
  {
   "cell_type": "markdown",
   "metadata": {},
   "source": [
    "The years in GDLET are distributed strangly:"
   ]
  },
  {
   "cell_type": "code",
   "execution_count": 6,
   "metadata": {
    "collapsed": false
   },
   "outputs": [
    {
     "data": {
      "text/plain": [
       "20150108    157419\n",
       "20140108      1822\n",
       "20150107      1445\n",
       "20141209       970\n",
       "20150101       774\n",
       "20150109       316\n",
       "20050110        44\n",
       "Name: Day, dtype: int64"
      ]
     },
     "execution_count": 6,
     "metadata": {},
     "output_type": "execute_result"
    }
   ],
   "source": [
    "gdelt.Day.value_counts()"
   ]
  },
  {
   "cell_type": "code",
   "execution_count": 7,
   "metadata": {
    "collapsed": false
   },
   "outputs": [
    {
     "data": {
      "text/plain": [
       "{2014, 2015}"
      ]
     },
     "execution_count": 7,
     "metadata": {},
     "output_type": "execute_result"
    }
   ],
   "source": [
    "set(gtd.iyear).intersection(set(gdelt.Year))"
   ]
  },
  {
   "cell_type": "markdown",
   "metadata": {},
   "source": [
    "Filter for 2015"
   ]
  },
  {
   "cell_type": "code",
   "execution_count": 171,
   "metadata": {
    "collapsed": false
   },
   "outputs": [],
   "source": [
    "#limit query to year 2015 b/c both datasest have full 2015 data\n",
    "gtdf = gtd[(gtd.iyear==2015) | (gtd.iyear==2014)]\n",
    "gdeltf=gdelt[(gdelt.Year==2015) | (gdelt.Year==2014)].sample(1000) #sampling a subset of the data for fast testing"
   ]
  },
  {
   "cell_type": "code",
   "execution_count": null,
   "metadata": {
    "collapsed": false
   },
   "outputs": [],
   "source": []
  },
  {
   "cell_type": "markdown",
   "metadata": {},
   "source": [
    "# Rule-Based Matching\n",
    "\n",
    "## Common Columns\n",
    "\n",
    "We need to define the mapping between the columns that are in common between the two datasets.\n",
    "\n",
    "I could only identify 2 columns that map GTD to GDELT. Key is GTD column Value is GDELT column\n",
    "\n",
    "* iyear/imonth/iday : Day - convert to int seconds and measure euclidian distance\n",
    "* latitude/longitude : ActionGeo_Lat/ActionGeo_Long - convert to 2D vector and measure euclidian distance"
   ]
  },
  {
   "cell_type": "markdown",
   "metadata": {},
   "source": [
    "# Simularity Metric\n",
    "\n",
    "We begin by covering approaches that employ handcrafted matching rules. A simple yet popular type of rule computes the similarity score between a pair of tuples $x$ and $y$ as a *linearly weighted combination* of the individual similarity scores:\n",
    "\n",
    "$$\n",
    "\\DeclareMathOperator*{\\argmax}{\\arg\\!\\max}\\\\\n",
    "sim(x, y) = \\sum_{i=1}^n \\alpha_i sim_i(x,y)\\\\\n",
    "match(GTD, GDELT) = \\argmax(sim(GTD_n, GDELT))\\\\\n",
    "$$\n",
    "\n",
    "where $n$ is the number of common coloumns between tables $X$ and $Y$ (in this case 2), $s_i(x,y) ∈ [0,1]$ is a similarity score between the $i$th attributes of $x$ and $y$, and $\\alpha_i ∈ [0, 1]$ is a prespecified weight that indicates the importance of the $i$th attribute to the overall similarity score, such that 􏰈$\\Sigma_{i=1}^n \\alpha_i = 1$. We declare $x$ and $y$ matched if $sim(x,y) ≥ β$ for a prespecified threshold $β$, and not matched otherwise."
   ]
  },
  {
   "cell_type": "markdown",
   "metadata": {},
   "source": [
    "## Python Implementation\n",
    "\n",
    "### Lat/Lng\n",
    "\n",
    "First we take each lat/lng and put them in a 2D vector format so we can take the euclidian disantace.\n",
    "\n",
    "### Date\n",
    "\n",
    "We take the date data from each touple and put it in native python `datetime` format. Then we convert each `datetime` into an integer representing the seconds from the epoch. We can then take the euclidian distance between two `datetimes`.\n",
    "\n",
    "## Computational Complexity\n",
    "\n",
    "This routine is a loop in a loop: O(n^2) growth complexity with 5,150,259,916 computations to run if we limit search to 2014-2015."
   ]
  },
  {
   "cell_type": "code",
   "execution_count": 9,
   "metadata": {
    "collapsed": false
   },
   "outputs": [
    {
     "name": "stdout",
     "output_type": "stream",
     "text": [
      "((31646, 137), (1000, 58))\n"
     ]
    },
    {
     "data": {
      "text/plain": [
       "31646000"
      ]
     },
     "execution_count": 9,
     "metadata": {},
     "output_type": "execute_result"
    }
   ],
   "source": [
    "print (gtdf.shape, gdeltf.shape)\n",
    "gtdf.shape[0] * gdeltf.shape[0]"
   ]
  },
  {
   "cell_type": "code",
   "execution_count": 36,
   "metadata": {
    "collapsed": true
   },
   "outputs": [],
   "source": [
    "#python implemention of the sim function above w/ 2 matching rules for lat/lng and date\n",
    "#arguments are pandas series (row) from each database\n",
    "def sim(target, match):\n",
    "    score = 0\n",
    "\n",
    "    #latlng\n",
    "    target_latlng = np.array(target[[\"latitude\", \"longitude\"]].values)\n",
    "    match_latlng = np.array(match[[\"ActionGeo_Lat\", \"ActionGeo_Long\"]].values)\n",
    "    dist = sim_latlng(target_latlng, match_latlng)\n",
    "    score += (W_LATLNG * dist)\n",
    "    \n",
    "    #date\n",
    "    target_date_parts = target[[\"iyear\", \"imonth\", \"iday\"]].values\n",
    "    target_date = datetime.datetime(target_date_parts[0], target_date_parts[1], target_date_parts[2])\n",
    "    target_seconds = int(target_date.strftime(\"%s\")) #seconds from epoch\n",
    "    match_date = datetime.datetime.strptime(str(match[[\"Day\"]][0]), \"%Y%m%d\")\n",
    "    match_seconds = int(match_date.strftime(\"%s\")) #seconds from epoch\n",
    "    date_dist = sim_date(target_seconds, match_seconds)\n",
    "    score += (W_DATE * date_dist)\n",
    "    \n",
    "    return score"
   ]
  },
  {
   "cell_type": "code",
   "execution_count": 37,
   "metadata": {
    "collapsed": false
   },
   "outputs": [],
   "source": [
    "#define lat/lng sim function\n",
    "#expect 2 1x2 numpy arrays\n",
    "def sim_latlng(a,b):\n",
    "    dist = numpy.linalg.norm(a-b)\n",
    "    sim = 1 / (1 + dist)\n",
    "    return sim"
   ]
  },
  {
   "cell_type": "code",
   "execution_count": 38,
   "metadata": {
    "collapsed": false
   },
   "outputs": [],
   "source": [
    "#try to match on date\n",
    "#2  integers represeignn seconds from th epoch\n",
    "def sim_date(a,b):\n",
    "    dist = numpy.linalg.norm(a-b)\n",
    "    sim = 1 / ( 1 + dist )\n",
    "    #sim = 1/exp(dist)\n",
    "    return sim"
   ]
  },
  {
   "cell_type": "code",
   "execution_count": 39,
   "metadata": {
    "collapsed": false
   },
   "outputs": [],
   "source": [
    "#utiltiy method to print match result\n",
    "def print_table(gtd, gdelt, score):\n",
    "    gtd_vals=[]\n",
    "    gdelt_vals=[]\n",
    "    \n",
    "    #latlng\n",
    "    gtd_vals.append(gtd[[\"latitude\", \"longitude\"]].values)\n",
    "    gdelt_vals.append(gdelt[[\"ActionGeo_Lat\", \"ActionGeo_Long\"]].values)\n",
    "    \n",
    "    #date\n",
    "    target_date_parts = gtd[[\"iyear\", \"imonth\", \"iday\"]].values\n",
    "    gtd_vals.append(datetime.datetime(target_date_parts[0], target_date_parts[1], target_date_parts[2]))\n",
    "    gdelt_vals.append(datetime.datetime.strptime(str(gdelt[[\"Day\"]][0]), \"%Y%m%d\"))\n",
    "    \n",
    "    #ids \n",
    "    gtd_vals.append(gtd.eventid)\n",
    "    gdelt_vals.append(gdelt.GlobalEventID)\n",
    "    \n",
    "    t_dict = {\"0cols\": [\"lat/lng\", \"date\", \"id\"], \"1GTD\": gtd_vals, \"GDELT\": gdelt_vals, \"Score\": score}\n",
    "    df = pd.DataFrame(t_dict)\n",
    "    return df"
   ]
  },
  {
   "cell_type": "markdown",
   "metadata": {},
   "source": [
    "## Results\n",
    "\n",
    "Here we iterate thought our targets in GTD and then compare against each candidate match in GDELT and return the closest match. A match is defined as the highest score which is computed by `nanargmax` below. We can also configure our weights here too:"
   ]
  },
  {
   "cell_type": "code",
   "execution_count": 172,
   "metadata": {
    "collapsed": false
   },
   "outputs": [],
   "source": [
    "# %%time\n",
    "\n",
    "#weights should sum to 1\n",
    "W_LATLNG=0.5\n",
    "W_DATE=0.5\n",
    "\n",
    "# threshold (beta)\n",
    "THRESHOLD = 0.3\n",
    "\n",
    "#choose what tuples of GTD you want to match against\n",
    "targets = gtdf.sample(1000)\n",
    "matches = {}\n",
    "\n",
    "for _, target in targets.iterrows(): \n",
    "    scores = []\n",
    "    for _, row in gdeltf.iterrows():\n",
    "        score = sim(target, row)\n",
    "        scores.append(score)\n",
    "\n",
    "    i = np.nanargmax(scores)\n",
    "    high_score = scores[i]\n",
    "    #if above thershold, consider match\n",
    "    if high_score >= THRESHOLD:\n",
    "        match = gdeltf.iloc[i]\n",
    "        matches[target.eventid] = (high_score, match.GlobalEventID)\n",
    "    else:\n",
    "        matches[target.eventid] = (None, None)\n",
    "        pass\n",
    "\n"
   ]
  },
  {
   "cell_type": "markdown",
   "metadata": {
    "collapsed": false
   },
   "source": [
    "## Report\n",
    "\n",
    "Print out top 200 matches by score"
   ]
  },
  {
   "cell_type": "code",
   "execution_count": 173,
   "metadata": {
    "collapsed": false
   },
   "outputs": [],
   "source": [
    "sorted_matches = sorted(matches.items(), key=lambda x: x[1][0], reverse=True)\n",
    "top200 = sorted_matches[0:200]"
   ]
  },
  {
   "cell_type": "code",
   "execution_count": 174,
   "metadata": {
    "collapsed": false
   },
   "outputs": [
    {
     "data": {
      "text/html": [
       "<div>\n",
       "<table border=\"1\" class=\"dataframe\">\n",
       "  <thead>\n",
       "    <tr style=\"text-align: right;\">\n",
       "      <th></th>\n",
       "      <th>GTD</th>\n",
       "      <th>Score</th>\n",
       "      <th>GDELT</th>\n",
       "    </tr>\n",
       "  </thead>\n",
       "  <tbody>\n",
       "    <tr>\n",
       "      <th>0</th>\n",
       "      <td>201501080089</td>\n",
       "      <td>0.993503</td>\n",
       "      <td>331048713</td>\n",
       "    </tr>\n",
       "    <tr>\n",
       "      <th>1</th>\n",
       "      <td>201501080083</td>\n",
       "      <td>0.804945</td>\n",
       "      <td>331012942</td>\n",
       "    </tr>\n",
       "    <tr>\n",
       "      <th>2</th>\n",
       "      <td>201501070005</td>\n",
       "      <td>0.620188</td>\n",
       "      <td>330991521</td>\n",
       "    </tr>\n",
       "    <tr>\n",
       "      <th>3</th>\n",
       "      <td>201501070074</td>\n",
       "      <td>0.564465</td>\n",
       "      <td>330991602</td>\n",
       "    </tr>\n",
       "    <tr>\n",
       "      <th>4</th>\n",
       "      <td>201501010001</td>\n",
       "      <td>0.546717</td>\n",
       "      <td>330990745</td>\n",
       "    </tr>\n",
       "    <tr>\n",
       "      <th>5</th>\n",
       "      <td>201501070090</td>\n",
       "      <td>0.534522</td>\n",
       "      <td>330991337</td>\n",
       "    </tr>\n",
       "    <tr>\n",
       "      <th>6</th>\n",
       "      <td>201412090010</td>\n",
       "      <td>0.513806</td>\n",
       "      <td>330989729</td>\n",
       "    </tr>\n",
       "    <tr>\n",
       "      <th>7</th>\n",
       "      <td>201412090038</td>\n",
       "      <td>0.506122</td>\n",
       "      <td>330989729</td>\n",
       "    </tr>\n",
       "    <tr>\n",
       "      <th>8</th>\n",
       "      <td>201404050039</td>\n",
       "      <td>0.499421</td>\n",
       "      <td>331061350</td>\n",
       "    </tr>\n",
       "    <tr>\n",
       "      <th>9</th>\n",
       "      <td>201402240001</td>\n",
       "      <td>0.498219</td>\n",
       "      <td>331056460</td>\n",
       "    </tr>\n",
       "    <tr>\n",
       "      <th>10</th>\n",
       "      <td>201503030056</td>\n",
       "      <td>0.498212</td>\n",
       "      <td>331102952</td>\n",
       "    </tr>\n",
       "    <tr>\n",
       "      <th>11</th>\n",
       "      <td>201511240029</td>\n",
       "      <td>0.498010</td>\n",
       "      <td>331024999</td>\n",
       "    </tr>\n",
       "    <tr>\n",
       "      <th>12</th>\n",
       "      <td>201408010086</td>\n",
       "      <td>0.497568</td>\n",
       "      <td>331113366</td>\n",
       "    </tr>\n",
       "    <tr>\n",
       "      <th>13</th>\n",
       "      <td>201402130016</td>\n",
       "      <td>0.497499</td>\n",
       "      <td>331061350</td>\n",
       "    </tr>\n",
       "    <tr>\n",
       "      <th>14</th>\n",
       "      <td>201501170022</td>\n",
       "      <td>0.496557</td>\n",
       "      <td>331061350</td>\n",
       "    </tr>\n",
       "    <tr>\n",
       "      <th>15</th>\n",
       "      <td>201411020017</td>\n",
       "      <td>0.496556</td>\n",
       "      <td>331061350</td>\n",
       "    </tr>\n",
       "    <tr>\n",
       "      <th>16</th>\n",
       "      <td>201410290006</td>\n",
       "      <td>0.496556</td>\n",
       "      <td>331061350</td>\n",
       "    </tr>\n",
       "    <tr>\n",
       "      <th>17</th>\n",
       "      <td>201408160004</td>\n",
       "      <td>0.496234</td>\n",
       "      <td>331084087</td>\n",
       "    </tr>\n",
       "    <tr>\n",
       "      <th>18</th>\n",
       "      <td>201407200056</td>\n",
       "      <td>0.496234</td>\n",
       "      <td>331084087</td>\n",
       "    </tr>\n",
       "    <tr>\n",
       "      <th>19</th>\n",
       "      <td>201502280042</td>\n",
       "      <td>0.495821</td>\n",
       "      <td>331056460</td>\n",
       "    </tr>\n",
       "    <tr>\n",
       "      <th>20</th>\n",
       "      <td>201507110006</td>\n",
       "      <td>0.495627</td>\n",
       "      <td>331031100</td>\n",
       "    </tr>\n",
       "    <tr>\n",
       "      <th>21</th>\n",
       "      <td>201402180021</td>\n",
       "      <td>0.495440</td>\n",
       "      <td>331017762</td>\n",
       "    </tr>\n",
       "    <tr>\n",
       "      <th>22</th>\n",
       "      <td>201409090004</td>\n",
       "      <td>0.495221</td>\n",
       "      <td>331056460</td>\n",
       "    </tr>\n",
       "    <tr>\n",
       "      <th>23</th>\n",
       "      <td>201501270063</td>\n",
       "      <td>0.495021</td>\n",
       "      <td>331056460</td>\n",
       "    </tr>\n",
       "    <tr>\n",
       "      <th>24</th>\n",
       "      <td>201504130073</td>\n",
       "      <td>0.495016</td>\n",
       "      <td>331113366</td>\n",
       "    </tr>\n",
       "    <tr>\n",
       "      <th>25</th>\n",
       "      <td>201412190018</td>\n",
       "      <td>0.494478</td>\n",
       "      <td>331146436</td>\n",
       "    </tr>\n",
       "    <tr>\n",
       "      <th>26</th>\n",
       "      <td>201401100042</td>\n",
       "      <td>0.494146</td>\n",
       "      <td>331056460</td>\n",
       "    </tr>\n",
       "    <tr>\n",
       "      <th>27</th>\n",
       "      <td>201509140067</td>\n",
       "      <td>0.494014</td>\n",
       "      <td>331024997</td>\n",
       "    </tr>\n",
       "    <tr>\n",
       "      <th>28</th>\n",
       "      <td>201502070062</td>\n",
       "      <td>0.493847</td>\n",
       "      <td>331012852</td>\n",
       "    </tr>\n",
       "    <tr>\n",
       "      <th>29</th>\n",
       "      <td>201503310050</td>\n",
       "      <td>0.493821</td>\n",
       "      <td>331084087</td>\n",
       "    </tr>\n",
       "    <tr>\n",
       "      <th>...</th>\n",
       "      <td>...</td>\n",
       "      <td>...</td>\n",
       "      <td>...</td>\n",
       "    </tr>\n",
       "    <tr>\n",
       "      <th>170</th>\n",
       "      <td>201405140039</td>\n",
       "      <td>0.451074</td>\n",
       "      <td>331008924</td>\n",
       "    </tr>\n",
       "    <tr>\n",
       "      <th>171</th>\n",
       "      <td>201407070006</td>\n",
       "      <td>0.450302</td>\n",
       "      <td>331084087</td>\n",
       "    </tr>\n",
       "    <tr>\n",
       "      <th>172</th>\n",
       "      <td>201510090003</td>\n",
       "      <td>0.449977</td>\n",
       "      <td>331146436</td>\n",
       "    </tr>\n",
       "    <tr>\n",
       "      <th>173</th>\n",
       "      <td>201403140027</td>\n",
       "      <td>0.449394</td>\n",
       "      <td>331056460</td>\n",
       "    </tr>\n",
       "    <tr>\n",
       "      <th>174</th>\n",
       "      <td>201503160013</td>\n",
       "      <td>0.448635</td>\n",
       "      <td>331146436</td>\n",
       "    </tr>\n",
       "    <tr>\n",
       "      <th>175</th>\n",
       "      <td>201411220007</td>\n",
       "      <td>0.448281</td>\n",
       "      <td>331146436</td>\n",
       "    </tr>\n",
       "    <tr>\n",
       "      <th>176</th>\n",
       "      <td>201411140027</td>\n",
       "      <td>0.448123</td>\n",
       "      <td>331146436</td>\n",
       "    </tr>\n",
       "    <tr>\n",
       "      <th>177</th>\n",
       "      <td>201403110062</td>\n",
       "      <td>0.446734</td>\n",
       "      <td>331083663</td>\n",
       "    </tr>\n",
       "    <tr>\n",
       "      <th>178</th>\n",
       "      <td>201501050001</td>\n",
       "      <td>0.446646</td>\n",
       "      <td>331146436</td>\n",
       "    </tr>\n",
       "    <tr>\n",
       "      <th>179</th>\n",
       "      <td>201407210078</td>\n",
       "      <td>0.446464</td>\n",
       "      <td>330990745</td>\n",
       "    </tr>\n",
       "    <tr>\n",
       "      <th>180</th>\n",
       "      <td>201508020005</td>\n",
       "      <td>0.445039</td>\n",
       "      <td>331146436</td>\n",
       "    </tr>\n",
       "    <tr>\n",
       "      <th>181</th>\n",
       "      <td>201507090039</td>\n",
       "      <td>0.444870</td>\n",
       "      <td>331146436</td>\n",
       "    </tr>\n",
       "    <tr>\n",
       "      <th>182</th>\n",
       "      <td>201408030042</td>\n",
       "      <td>0.444565</td>\n",
       "      <td>331004048</td>\n",
       "    </tr>\n",
       "    <tr>\n",
       "      <th>183</th>\n",
       "      <td>201504140072</td>\n",
       "      <td>0.443382</td>\n",
       "      <td>331056460</td>\n",
       "    </tr>\n",
       "    <tr>\n",
       "      <th>184</th>\n",
       "      <td>201403240054</td>\n",
       "      <td>0.442721</td>\n",
       "      <td>331148190</td>\n",
       "    </tr>\n",
       "    <tr>\n",
       "      <th>185</th>\n",
       "      <td>201401260048</td>\n",
       "      <td>0.442613</td>\n",
       "      <td>331061350</td>\n",
       "    </tr>\n",
       "    <tr>\n",
       "      <th>186</th>\n",
       "      <td>201508120125</td>\n",
       "      <td>0.438325</td>\n",
       "      <td>331004048</td>\n",
       "    </tr>\n",
       "    <tr>\n",
       "      <th>187</th>\n",
       "      <td>201401310050</td>\n",
       "      <td>0.437351</td>\n",
       "      <td>331146436</td>\n",
       "    </tr>\n",
       "    <tr>\n",
       "      <th>188</th>\n",
       "      <td>201412270025</td>\n",
       "      <td>0.437317</td>\n",
       "      <td>331146436</td>\n",
       "    </tr>\n",
       "    <tr>\n",
       "      <th>189</th>\n",
       "      <td>201403240027</td>\n",
       "      <td>0.437304</td>\n",
       "      <td>331146436</td>\n",
       "    </tr>\n",
       "    <tr>\n",
       "      <th>190</th>\n",
       "      <td>201505040072</td>\n",
       "      <td>0.435683</td>\n",
       "      <td>331083663</td>\n",
       "    </tr>\n",
       "    <tr>\n",
       "      <th>191</th>\n",
       "      <td>201407040094</td>\n",
       "      <td>0.432496</td>\n",
       "      <td>330990745</td>\n",
       "    </tr>\n",
       "    <tr>\n",
       "      <th>192</th>\n",
       "      <td>201403120065</td>\n",
       "      <td>0.432291</td>\n",
       "      <td>330990745</td>\n",
       "    </tr>\n",
       "    <tr>\n",
       "      <th>193</th>\n",
       "      <td>201412180029</td>\n",
       "      <td>0.432180</td>\n",
       "      <td>331091228</td>\n",
       "    </tr>\n",
       "    <tr>\n",
       "      <th>194</th>\n",
       "      <td>201406270026</td>\n",
       "      <td>0.432124</td>\n",
       "      <td>331056460</td>\n",
       "    </tr>\n",
       "    <tr>\n",
       "      <th>195</th>\n",
       "      <td>201511220036</td>\n",
       "      <td>0.432016</td>\n",
       "      <td>331060334</td>\n",
       "    </tr>\n",
       "    <tr>\n",
       "      <th>196</th>\n",
       "      <td>201410090030</td>\n",
       "      <td>0.431516</td>\n",
       "      <td>331083663</td>\n",
       "    </tr>\n",
       "    <tr>\n",
       "      <th>197</th>\n",
       "      <td>201401210065</td>\n",
       "      <td>0.431223</td>\n",
       "      <td>331024019</td>\n",
       "    </tr>\n",
       "    <tr>\n",
       "      <th>198</th>\n",
       "      <td>201504170062</td>\n",
       "      <td>0.430945</td>\n",
       "      <td>331041470</td>\n",
       "    </tr>\n",
       "    <tr>\n",
       "      <th>199</th>\n",
       "      <td>201507160019</td>\n",
       "      <td>0.429120</td>\n",
       "      <td>331041470</td>\n",
       "    </tr>\n",
       "  </tbody>\n",
       "</table>\n",
       "<p>200 rows × 3 columns</p>\n",
       "</div>"
      ],
      "text/plain": [
       "              GTD     Score      GDELT\n",
       "0    201501080089  0.993503  331048713\n",
       "1    201501080083  0.804945  331012942\n",
       "2    201501070005  0.620188  330991521\n",
       "3    201501070074  0.564465  330991602\n",
       "4    201501010001  0.546717  330990745\n",
       "5    201501070090  0.534522  330991337\n",
       "6    201412090010  0.513806  330989729\n",
       "7    201412090038  0.506122  330989729\n",
       "8    201404050039  0.499421  331061350\n",
       "9    201402240001  0.498219  331056460\n",
       "10   201503030056  0.498212  331102952\n",
       "11   201511240029  0.498010  331024999\n",
       "12   201408010086  0.497568  331113366\n",
       "13   201402130016  0.497499  331061350\n",
       "14   201501170022  0.496557  331061350\n",
       "15   201411020017  0.496556  331061350\n",
       "16   201410290006  0.496556  331061350\n",
       "17   201408160004  0.496234  331084087\n",
       "18   201407200056  0.496234  331084087\n",
       "19   201502280042  0.495821  331056460\n",
       "20   201507110006  0.495627  331031100\n",
       "21   201402180021  0.495440  331017762\n",
       "22   201409090004  0.495221  331056460\n",
       "23   201501270063  0.495021  331056460\n",
       "24   201504130073  0.495016  331113366\n",
       "25   201412190018  0.494478  331146436\n",
       "26   201401100042  0.494146  331056460\n",
       "27   201509140067  0.494014  331024997\n",
       "28   201502070062  0.493847  331012852\n",
       "29   201503310050  0.493821  331084087\n",
       "..            ...       ...        ...\n",
       "170  201405140039  0.451074  331008924\n",
       "171  201407070006  0.450302  331084087\n",
       "172  201510090003  0.449977  331146436\n",
       "173  201403140027  0.449394  331056460\n",
       "174  201503160013  0.448635  331146436\n",
       "175  201411220007  0.448281  331146436\n",
       "176  201411140027  0.448123  331146436\n",
       "177  201403110062  0.446734  331083663\n",
       "178  201501050001  0.446646  331146436\n",
       "179  201407210078  0.446464  330990745\n",
       "180  201508020005  0.445039  331146436\n",
       "181  201507090039  0.444870  331146436\n",
       "182  201408030042  0.444565  331004048\n",
       "183  201504140072  0.443382  331056460\n",
       "184  201403240054  0.442721  331148190\n",
       "185  201401260048  0.442613  331061350\n",
       "186  201508120125  0.438325  331004048\n",
       "187  201401310050  0.437351  331146436\n",
       "188  201412270025  0.437317  331146436\n",
       "189  201403240027  0.437304  331146436\n",
       "190  201505040072  0.435683  331083663\n",
       "191  201407040094  0.432496  330990745\n",
       "192  201403120065  0.432291  330990745\n",
       "193  201412180029  0.432180  331091228\n",
       "194  201406270026  0.432124  331056460\n",
       "195  201511220036  0.432016  331060334\n",
       "196  201410090030  0.431516  331083663\n",
       "197  201401210065  0.431223  331024019\n",
       "198  201504170062  0.430945  331041470\n",
       "199  201507160019  0.429120  331041470\n",
       "\n",
       "[200 rows x 3 columns]"
      ]
     },
     "execution_count": 174,
     "metadata": {},
     "output_type": "execute_result"
    }
   ],
   "source": [
    "gtdids= zip(*top200)[0]; scores = zip(*zip(*top200)[1])[0]; gdeltids=zip(*zip(*top200)[1])[1]\n",
    "report = pd.DataFrame({\"GTD\": gtdids, \"Score\": scores, \"GDELT\": gdeltids})\n",
    "report [[\"GTD\", \"Score\", \"GDELT\"]].head(200)"
   ]
  },
  {
   "cell_type": "code",
   "execution_count": null,
   "metadata": {
    "collapsed": false
   },
   "outputs": [],
   "source": []
  },
  {
   "cell_type": "code",
   "execution_count": 157,
   "metadata": {
    "collapsed": false
   },
   "outputs": [],
   "source": []
  },
  {
   "cell_type": "code",
   "execution_count": null,
   "metadata": {
    "collapsed": false
   },
   "outputs": [],
   "source": []
  },
  {
   "cell_type": "code",
   "execution_count": null,
   "metadata": {
    "collapsed": true
   },
   "outputs": [],
   "source": []
  }
 ],
 "metadata": {
  "kernelspec": {
   "display_name": "Python 2",
   "language": "python",
   "name": "python2"
  },
  "language_info": {
   "codemirror_mode": {
    "name": "ipython",
    "version": 2
   },
   "file_extension": ".py",
   "mimetype": "text/x-python",
   "name": "python",
   "nbconvert_exporter": "python",
   "pygments_lexer": "ipython2",
   "version": "2.7.11"
  }
 },
 "nbformat": 4,
 "nbformat_minor": 0
}
