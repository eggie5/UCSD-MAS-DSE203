{
 "cells": [
  {
   "cell_type": "markdown",
   "metadata": {},
   "source": [
    "# Data Matching\n",
    "\n",
    "A major topic of ETL is string matching and data matching. While string matching returns a simularity score between two strings, data matching returning a simularity between two two tuples (rows) in a database. For example, we would like to determine whether the tuples `(David Smith, 608-245-4367, Madison WI)` and `(D. M. Smith, 245-4367, Madison WI)` refer to the same person.\n",
    "\n",
    "The problem of data matching arises in many integration situations. In the simplest case, we may be merging multiple databases with identical schemas, but without a unique global ID, and want to decide which rows are duplicates. The problem is complicated when we need to join rows from sources that have different schemas. Data matching may also arise at query time. For example, a query may often imprecisely refer to a particular data item, e.g., a query asking for the phone number of a David Smith who lives in Madison. We need to employ data matching techniques to decide which tuples in the database match the query.\n",
    "\n",
    "In this project, we will complete a cross-dataset join across two terrorism databases w/ differnent schemas: GTD and GDELT.\n",
    "\n",
    "## Techniques\n",
    "\n",
    "We cover several classes of solutions to the data matching problem. The first kind employs handcrafted rules, or **Rule-based Matching** to match tuples. These techniques typically make heavy use of domain-specific knowledge in domains where the complexity of the rules is manageable. The next kind of solution, **Learning-based Matching** learns the appropriate rules from labeled examples, using supervised learning. The third kind, **clustering** does not use training data. Instead, it iteratively assigns tuples to clusters, such that all tuples within a single cluster match and those across clusters do not."
   ]
  },
  {
   "cell_type": "code",
   "execution_count": 1,
   "metadata": {
    "collapsed": false
   },
   "outputs": [
    {
     "name": "stdout",
     "output_type": "stream",
     "text": [
      "Populating the interactive namespace from numpy and matplotlib\n"
     ]
    }
   ],
   "source": [
    "import pandas as pd\n",
    "%pylab inline"
   ]
  },
  {
   "cell_type": "markdown",
   "metadata": {},
   "source": [
    "## Data\n",
    "\n",
    "Load the two datasets"
   ]
  },
  {
   "cell_type": "code",
   "execution_count": 122,
   "metadata": {
    "collapsed": true
   },
   "outputs": [],
   "source": [
    "gtd=pd.read_excel(\"data/gtd_12to15_0616dist.xlsx\")"
   ]
  },
  {
   "cell_type": "code",
   "execution_count": 123,
   "metadata": {
    "collapsed": false
   },
   "outputs": [],
   "source": [
    "headers = pd.read_excel(\"data/GDELT Metadata.xlsx\").columns.values\n",
    "gdelt = pd.read_csv(\"data/20150108.export.txt\", delimiter=\"\\t\", names=headers)"
   ]
  },
  {
   "cell_type": "markdown",
   "metadata": {
    "collapsed": false
   },
   "source": [
    "## Common Years\n",
    "\n",
    "The two datasets intersect for years 2014-2015"
   ]
  },
  {
   "cell_type": "code",
   "execution_count": 124,
   "metadata": {
    "collapsed": false
   },
   "outputs": [
    {
     "data": {
      "text/plain": [
       "2014    16840\n",
       "2015    14806\n",
       "2013    11990\n",
       "2012     8498\n",
       "Name: iyear, dtype: int64"
      ]
     },
     "execution_count": 124,
     "metadata": {},
     "output_type": "execute_result"
    }
   ],
   "source": [
    "gtd.iyear.value_counts()"
   ]
  },
  {
   "cell_type": "code",
   "execution_count": 125,
   "metadata": {
    "collapsed": false
   },
   "outputs": [
    {
     "data": {
      "text/plain": [
       "2015    159954\n",
       "2014      2792\n",
       "2005        44\n",
       "Name: Year, dtype: int64"
      ]
     },
     "execution_count": 125,
     "metadata": {},
     "output_type": "execute_result"
    }
   ],
   "source": [
    "gdelt.Year.value_counts()"
   ]
  },
  {
   "cell_type": "markdown",
   "metadata": {},
   "source": [
    "The years in GDLET are distributed strangly:"
   ]
  },
  {
   "cell_type": "code",
   "execution_count": 126,
   "metadata": {
    "collapsed": false
   },
   "outputs": [
    {
     "data": {
      "text/plain": [
       "20150108    157419\n",
       "20140108      1822\n",
       "20150107      1445\n",
       "20141209       970\n",
       "20150101       774\n",
       "20150109       316\n",
       "20050110        44\n",
       "Name: Day, dtype: int64"
      ]
     },
     "execution_count": 126,
     "metadata": {},
     "output_type": "execute_result"
    }
   ],
   "source": [
    "gdelt.Day.value_counts()"
   ]
  },
  {
   "cell_type": "code",
   "execution_count": 127,
   "metadata": {
    "collapsed": false
   },
   "outputs": [
    {
     "data": {
      "text/plain": [
       "{2014, 2015}"
      ]
     },
     "execution_count": 127,
     "metadata": {},
     "output_type": "execute_result"
    }
   ],
   "source": [
    "set(gtd.iyear).intersection(set(gdelt.Year))"
   ]
  },
  {
   "cell_type": "markdown",
   "metadata": {},
   "source": [
    "Filter for 2015"
   ]
  },
  {
   "cell_type": "code",
   "execution_count": 137,
   "metadata": {
    "collapsed": false
   },
   "outputs": [],
   "source": [
    "#limit query to year 2015 b/c both datasest have full 2015 data\n",
    "gtdf = gtd[gtd.iyear==2015]\n",
    "gdeltf=gdelt[gdelt.Year==2015].sample(1000) #sampling a subset of the data for fast testing"
   ]
  },
  {
   "cell_type": "markdown",
   "metadata": {},
   "source": [
    "# Rule-Based Matching\n",
    "\n",
    "## Common Columns\n",
    "\n",
    "We need to define the mapping between the columns that are in common between the two datasets.\n",
    "\n",
    "I could only identify 2 columns that map GTD to GDELT. Key is GTD column Value is GDELT column\n",
    "\n",
    "* iyear/imonth/iday : Day - convert to int seconds and measure euclidian distance\n",
    "* latitude/longitude : ActionGeo_Lat/ActionGeo_Long - convert to 2D vector and measure euclidian distance"
   ]
  },
  {
   "cell_type": "markdown",
   "metadata": {},
   "source": [
    "# Simularity Metric\n",
    "\n",
    "We begin by covering approaches that employ handcrafted matching rules. A simple yet popular type of rule computes the similarity score between a pair of tuples $x$ and $y$ as a *linearly weighted combination* of the individual similarity scores:\n",
    "\n",
    "$$\n",
    "\\DeclareMathOperator*{\\argmax}{\\arg\\!\\max}\\\\\n",
    "sim(x, y) = \\sum_{i=1}^n \\alpha_i sim_i(x,y)\\\\\n",
    "match(GTD, GDELT) = \\argmax(sim(GTD_n, GDELT))\\\\\n",
    "$$\n",
    "\n",
    "where $n$ is the number of common coloumns between tables $X$ and $Y$ (in this case 2), $s_i(x,y) ∈ [0,1]$ is a similarity score between the $i$th attributes of $x$ and $y$, and $\\alpha_i ∈ [0, 1]$ is a prespecified weight that indicates the importance of the $i$th attribute to the overall similarity score, such that 􏰈$\\Sigma_{i=1}^n \\alpha_i = 1$. We declare $x$ and $y$ matched if $sim(x,y) ≥ β$ for a prespecified threshold $β$, and not matched otherwise."
   ]
  },
  {
   "cell_type": "markdown",
   "metadata": {},
   "source": [
    "## Python Implementation\n",
    "\n",
    "### Lat/Lng\n",
    "\n",
    "First we take each lat/lng and put them in a 2D vector format so we can take the euclidian disantace.\n",
    "\n",
    "### Date\n",
    "\n",
    "We take the date data from each touple and put it in native python `datetime` format. Then we convert each `datetime` into an integer representing the seconds from the epoch. We can then take the euclidian distance between two `datetimes`."
   ]
  },
  {
   "cell_type": "code",
   "execution_count": 139,
   "metadata": {
    "collapsed": true
   },
   "outputs": [],
   "source": [
    "#python implemention of the sim function above w/ 2 matching rules for lat/lng and date\n",
    "#arguments are pandas series (row) from each database\n",
    "def sim(target, match):\n",
    "    score = 0\n",
    "    \n",
    "    #latlng\n",
    "    target_latlng = np.array(target[[\"latitude\", \"longitude\"]].values)\n",
    "    match_latlng = np.array(match[[\"ActionGeo_Lat\", \"ActionGeo_Long\"]].values)\n",
    "    dist = sim_latlng(target_latlng, match_latlng)\n",
    "    score += (W_LATLNG * dist)\n",
    "    \n",
    "    #date\n",
    "    target_date_parts = target[[\"iyear\", \"imonth\", \"iday\"]].values\n",
    "    target_date = datetime.datetime(target_date_parts[0], target_date_parts[1], target_date_parts[2])\n",
    "    target_seconds = int(target_date.strftime(\"%s\")) #seconds from epoch\n",
    "    match_date = datetime.datetime.strptime(str(match[[\"Day\"]][0]), \"%Y%m%d\")\n",
    "    match_seconds = int(match_date.strftime(\"%s\")) #seconds from epoch\n",
    "    date_dist = sim_date(target_seconds, match_seconds)\n",
    "    score += (W_DATE * date_dist)\n",
    "    \n",
    "    return score"
   ]
  },
  {
   "cell_type": "code",
   "execution_count": 91,
   "metadata": {
    "collapsed": false
   },
   "outputs": [],
   "source": [
    "#define lat/lng sim function\n",
    "#expect 2 1x2 numpy arrays\n",
    "def sim_latlng(a,b):\n",
    "    dist = numpy.linalg.norm(a-b)\n",
    "    sim = 1 / (1 + dist)\n",
    "    return sim"
   ]
  },
  {
   "cell_type": "code",
   "execution_count": 92,
   "metadata": {
    "collapsed": false
   },
   "outputs": [],
   "source": [
    "#try to match on date\n",
    "#2  integers represeignn seconds from th epoch\n",
    "def sim_date(a,b):\n",
    "    dist = numpy.linalg.norm(a-b)\n",
    "    sim = 1 / ( 1 + dist )\n",
    "    #sim = 1/exp(dist)\n",
    "    return sim"
   ]
  },
  {
   "cell_type": "code",
   "execution_count": 149,
   "metadata": {
    "collapsed": false
   },
   "outputs": [],
   "source": [
    "#utiltiy method to print match result\n",
    "def print_table(gtd, gdelt, score):\n",
    "    gtd_vals=[]\n",
    "    gdelt_vals=[]\n",
    "    \n",
    "    #latlng\n",
    "    gtd_vals.append(gtd[[\"latitude\", \"longitude\"]].values)\n",
    "    gdelt_vals.append(gdelt[[\"ActionGeo_Lat\", \"ActionGeo_Long\"]].values)\n",
    "    \n",
    "    #date\n",
    "    target_date_parts = gtd[[\"iyear\", \"imonth\", \"iday\"]].values\n",
    "    gtd_vals.append(datetime.datetime(target_date_parts[0], target_date_parts[1], target_date_parts[2]))\n",
    "    gdelt_vals.append(datetime.datetime.strptime(str(gdelt[[\"Day\"]][0]), \"%Y%m%d\"))\n",
    "    \n",
    "    #ids \n",
    "    gtd_vals.append(gtd.eventid)\n",
    "    gdelt_vals.append(gdelt.GlobalEventID)\n",
    "    \n",
    "    t_dict = {\"0cols\": [\"lat/lng\", \"date\", \"id\"], \"1GTD\": gtd_vals, \"GDELT\": gdelt_vals, \"Score\": score}\n",
    "    df = pd.DataFrame(t_dict)\n",
    "    return df"
   ]
  },
  {
   "cell_type": "markdown",
   "metadata": {},
   "source": [
    "## Results\n",
    "\n",
    "Here we iterate thought our targets in GTD and then compare against each candidate match in GDELT and return the closest match. A match is defined as the highest score which is computed by `nanargmax` below. We can also configure our weights here too:"
   ]
  },
  {
   "cell_type": "code",
   "execution_count": 152,
   "metadata": {
    "collapsed": false
   },
   "outputs": [
    {
     "data": {
      "text/html": [
       "<div>\n",
       "<table border=\"1\" class=\"dataframe\">\n",
       "  <thead>\n",
       "    <tr style=\"text-align: right;\">\n",
       "      <th></th>\n",
       "      <th>0cols</th>\n",
       "      <th>1GTD</th>\n",
       "      <th>GDELT</th>\n",
       "      <th>Score</th>\n",
       "    </tr>\n",
       "  </thead>\n",
       "  <tbody>\n",
       "    <tr>\n",
       "      <th>0</th>\n",
       "      <td>lat/lng</td>\n",
       "      <td>[6.867985, 124.476389]</td>\n",
       "      <td>[6.7085, 121.971]</td>\n",
       "      <td>0.142432</td>\n",
       "    </tr>\n",
       "    <tr>\n",
       "      <th>1</th>\n",
       "      <td>date</td>\n",
       "      <td>2015-04-11 00:00:00</td>\n",
       "      <td>2015-01-08 00:00:00</td>\n",
       "      <td>0.142432</td>\n",
       "    </tr>\n",
       "    <tr>\n",
       "      <th>2</th>\n",
       "      <td>id</td>\n",
       "      <td>201504110092</td>\n",
       "      <td>331030616</td>\n",
       "      <td>0.142432</td>\n",
       "    </tr>\n",
       "  </tbody>\n",
       "</table>\n",
       "</div>"
      ],
      "text/plain": [
       "     0cols                    1GTD                GDELT     Score\n",
       "0  lat/lng  [6.867985, 124.476389]    [6.7085, 121.971]  0.142432\n",
       "1     date     2015-04-11 00:00:00  2015-01-08 00:00:00  0.142432\n",
       "2       id            201504110092            331030616  0.142432"
      ]
     },
     "metadata": {},
     "output_type": "display_data"
    },
    {
     "data": {
      "text/html": [
       "<div>\n",
       "<table border=\"1\" class=\"dataframe\">\n",
       "  <thead>\n",
       "    <tr style=\"text-align: right;\">\n",
       "      <th></th>\n",
       "      <th>0cols</th>\n",
       "      <th>1GTD</th>\n",
       "      <th>GDELT</th>\n",
       "      <th>Score</th>\n",
       "    </tr>\n",
       "  </thead>\n",
       "  <tbody>\n",
       "    <tr>\n",
       "      <th>0</th>\n",
       "      <td>lat/lng</td>\n",
       "      <td>[33.228132, 44.525822]</td>\n",
       "      <td>[33.3386, 44.3939]</td>\n",
       "      <td>0.426597</td>\n",
       "    </tr>\n",
       "    <tr>\n",
       "      <th>1</th>\n",
       "      <td>date</td>\n",
       "      <td>2015-12-02 00:00:00</td>\n",
       "      <td>2015-01-08 00:00:00</td>\n",
       "      <td>0.426597</td>\n",
       "    </tr>\n",
       "    <tr>\n",
       "      <th>2</th>\n",
       "      <td>id</td>\n",
       "      <td>201512020006</td>\n",
       "      <td>331050758</td>\n",
       "      <td>0.426597</td>\n",
       "    </tr>\n",
       "  </tbody>\n",
       "</table>\n",
       "</div>"
      ],
      "text/plain": [
       "     0cols                    1GTD                GDELT     Score\n",
       "0  lat/lng  [33.228132, 44.525822]   [33.3386, 44.3939]  0.426597\n",
       "1     date     2015-12-02 00:00:00  2015-01-08 00:00:00  0.426597\n",
       "2       id            201512020006            331050758  0.426597"
      ]
     },
     "metadata": {},
     "output_type": "display_data"
    },
    {
     "data": {
      "text/html": [
       "<div>\n",
       "<table border=\"1\" class=\"dataframe\">\n",
       "  <thead>\n",
       "    <tr style=\"text-align: right;\">\n",
       "      <th></th>\n",
       "      <th>0cols</th>\n",
       "      <th>1GTD</th>\n",
       "      <th>GDELT</th>\n",
       "      <th>Score</th>\n",
       "    </tr>\n",
       "  </thead>\n",
       "  <tbody>\n",
       "    <tr>\n",
       "      <th>0</th>\n",
       "      <td>lat/lng</td>\n",
       "      <td>[22.798224, 91.988153]</td>\n",
       "      <td>[23.7231, 90.4086]</td>\n",
       "      <td>0.176653</td>\n",
       "    </tr>\n",
       "    <tr>\n",
       "      <th>1</th>\n",
       "      <td>date</td>\n",
       "      <td>2015-02-11 00:00:00</td>\n",
       "      <td>2015-01-08 00:00:00</td>\n",
       "      <td>0.176653</td>\n",
       "    </tr>\n",
       "    <tr>\n",
       "      <th>2</th>\n",
       "      <td>id</td>\n",
       "      <td>201502110042</td>\n",
       "      <td>330993527</td>\n",
       "      <td>0.176653</td>\n",
       "    </tr>\n",
       "  </tbody>\n",
       "</table>\n",
       "</div>"
      ],
      "text/plain": [
       "     0cols                    1GTD                GDELT     Score\n",
       "0  lat/lng  [22.798224, 91.988153]   [23.7231, 90.4086]  0.176653\n",
       "1     date     2015-02-11 00:00:00  2015-01-08 00:00:00  0.176653\n",
       "2       id            201502110042            330993527  0.176653"
      ]
     },
     "metadata": {},
     "output_type": "display_data"
    },
    {
     "data": {
      "text/html": [
       "<div>\n",
       "<table border=\"1\" class=\"dataframe\">\n",
       "  <thead>\n",
       "    <tr style=\"text-align: right;\">\n",
       "      <th></th>\n",
       "      <th>0cols</th>\n",
       "      <th>1GTD</th>\n",
       "      <th>GDELT</th>\n",
       "      <th>Score</th>\n",
       "    </tr>\n",
       "  </thead>\n",
       "  <tbody>\n",
       "    <tr>\n",
       "      <th>0</th>\n",
       "      <td>lat/lng</td>\n",
       "      <td>[33.694104, 44.799064]</td>\n",
       "      <td>[33.3386, 44.3939]</td>\n",
       "      <td>0.324882</td>\n",
       "    </tr>\n",
       "    <tr>\n",
       "      <th>1</th>\n",
       "      <td>date</td>\n",
       "      <td>2015-08-10 00:00:00</td>\n",
       "      <td>2015-01-08 00:00:00</td>\n",
       "      <td>0.324882</td>\n",
       "    </tr>\n",
       "    <tr>\n",
       "      <th>2</th>\n",
       "      <td>id</td>\n",
       "      <td>201508100001</td>\n",
       "      <td>331050758</td>\n",
       "      <td>0.324882</td>\n",
       "    </tr>\n",
       "  </tbody>\n",
       "</table>\n",
       "</div>"
      ],
      "text/plain": [
       "     0cols                    1GTD                GDELT     Score\n",
       "0  lat/lng  [33.694104, 44.799064]   [33.3386, 44.3939]  0.324882\n",
       "1     date     2015-08-10 00:00:00  2015-01-08 00:00:00  0.324882\n",
       "2       id            201508100001            331050758  0.324882"
      ]
     },
     "metadata": {},
     "output_type": "display_data"
    },
    {
     "data": {
      "text/html": [
       "<div>\n",
       "<table border=\"1\" class=\"dataframe\">\n",
       "  <thead>\n",
       "    <tr style=\"text-align: right;\">\n",
       "      <th></th>\n",
       "      <th>0cols</th>\n",
       "      <th>1GTD</th>\n",
       "      <th>GDELT</th>\n",
       "      <th>Score</th>\n",
       "    </tr>\n",
       "  </thead>\n",
       "  <tbody>\n",
       "    <tr>\n",
       "      <th>0</th>\n",
       "      <td>lat/lng</td>\n",
       "      <td>[33.351293, 68.570245]</td>\n",
       "      <td>[32.4167, 68.75]</td>\n",
       "      <td>0.256184</td>\n",
       "    </tr>\n",
       "    <tr>\n",
       "      <th>1</th>\n",
       "      <td>date</td>\n",
       "      <td>2015-12-01 00:00:00</td>\n",
       "      <td>2015-01-08 00:00:00</td>\n",
       "      <td>0.256184</td>\n",
       "    </tr>\n",
       "    <tr>\n",
       "      <th>2</th>\n",
       "      <td>id</td>\n",
       "      <td>201512010048</td>\n",
       "      <td>331008728</td>\n",
       "      <td>0.256184</td>\n",
       "    </tr>\n",
       "  </tbody>\n",
       "</table>\n",
       "</div>"
      ],
      "text/plain": [
       "     0cols                    1GTD                GDELT     Score\n",
       "0  lat/lng  [33.351293, 68.570245]     [32.4167, 68.75]  0.256184\n",
       "1     date     2015-12-01 00:00:00  2015-01-08 00:00:00  0.256184\n",
       "2       id            201512010048            331008728  0.256184"
      ]
     },
     "metadata": {},
     "output_type": "display_data"
    },
    {
     "data": {
      "text/html": [
       "<div>\n",
       "<table border=\"1\" class=\"dataframe\">\n",
       "  <thead>\n",
       "    <tr style=\"text-align: right;\">\n",
       "      <th></th>\n",
       "      <th>0cols</th>\n",
       "      <th>1GTD</th>\n",
       "      <th>GDELT</th>\n",
       "      <th>Score</th>\n",
       "    </tr>\n",
       "  </thead>\n",
       "  <tbody>\n",
       "    <tr>\n",
       "      <th>0</th>\n",
       "      <td>lat/lng</td>\n",
       "      <td>[30.960031, 61.859984]</td>\n",
       "      <td>[33.0, 65.0]</td>\n",
       "      <td>0.105386</td>\n",
       "    </tr>\n",
       "    <tr>\n",
       "      <th>1</th>\n",
       "      <td>date</td>\n",
       "      <td>2015-11-28 00:00:00</td>\n",
       "      <td>2015-01-08 00:00:00</td>\n",
       "      <td>0.105386</td>\n",
       "    </tr>\n",
       "    <tr>\n",
       "      <th>2</th>\n",
       "      <td>id</td>\n",
       "      <td>201511280002</td>\n",
       "      <td>331058528</td>\n",
       "      <td>0.105386</td>\n",
       "    </tr>\n",
       "  </tbody>\n",
       "</table>\n",
       "</div>"
      ],
      "text/plain": [
       "     0cols                    1GTD                GDELT     Score\n",
       "0  lat/lng  [30.960031, 61.859984]         [33.0, 65.0]  0.105386\n",
       "1     date     2015-11-28 00:00:00  2015-01-08 00:00:00  0.105386\n",
       "2       id            201511280002            331058528  0.105386"
      ]
     },
     "metadata": {},
     "output_type": "display_data"
    },
    {
     "data": {
      "text/html": [
       "<div>\n",
       "<table border=\"1\" class=\"dataframe\">\n",
       "  <thead>\n",
       "    <tr style=\"text-align: right;\">\n",
       "      <th></th>\n",
       "      <th>0cols</th>\n",
       "      <th>1GTD</th>\n",
       "      <th>GDELT</th>\n",
       "      <th>Score</th>\n",
       "    </tr>\n",
       "  </thead>\n",
       "  <tbody>\n",
       "    <tr>\n",
       "      <th>0</th>\n",
       "      <td>lat/lng</td>\n",
       "      <td>[34.454005, 70.484747]</td>\n",
       "      <td>[34.0078, 71.5733]</td>\n",
       "      <td>0.229731</td>\n",
       "    </tr>\n",
       "    <tr>\n",
       "      <th>1</th>\n",
       "      <td>date</td>\n",
       "      <td>2015-10-22 00:00:00</td>\n",
       "      <td>2015-01-08 00:00:00</td>\n",
       "      <td>0.229731</td>\n",
       "    </tr>\n",
       "    <tr>\n",
       "      <th>2</th>\n",
       "      <td>id</td>\n",
       "      <td>201510220004</td>\n",
       "      <td>331118282</td>\n",
       "      <td>0.229731</td>\n",
       "    </tr>\n",
       "  </tbody>\n",
       "</table>\n",
       "</div>"
      ],
      "text/plain": [
       "     0cols                    1GTD                GDELT     Score\n",
       "0  lat/lng  [34.454005, 70.484747]   [34.0078, 71.5733]  0.229731\n",
       "1     date     2015-10-22 00:00:00  2015-01-08 00:00:00  0.229731\n",
       "2       id            201510220004            331118282  0.229731"
      ]
     },
     "metadata": {},
     "output_type": "display_data"
    },
    {
     "data": {
      "text/html": [
       "<div>\n",
       "<table border=\"1\" class=\"dataframe\">\n",
       "  <thead>\n",
       "    <tr style=\"text-align: right;\">\n",
       "      <th></th>\n",
       "      <th>0cols</th>\n",
       "      <th>1GTD</th>\n",
       "      <th>GDELT</th>\n",
       "      <th>Score</th>\n",
       "    </tr>\n",
       "  </thead>\n",
       "  <tbody>\n",
       "    <tr>\n",
       "      <th>0</th>\n",
       "      <td>lat/lng</td>\n",
       "      <td>[35.725265, 71.288397]</td>\n",
       "      <td>[34.7922, 72.6164]</td>\n",
       "      <td>0.19062</td>\n",
       "    </tr>\n",
       "    <tr>\n",
       "      <th>1</th>\n",
       "      <td>date</td>\n",
       "      <td>2015-10-31 00:00:00</td>\n",
       "      <td>2015-01-08 00:00:00</td>\n",
       "      <td>0.19062</td>\n",
       "    </tr>\n",
       "    <tr>\n",
       "      <th>2</th>\n",
       "      <td>id</td>\n",
       "      <td>201510310005</td>\n",
       "      <td>331104361</td>\n",
       "      <td>0.19062</td>\n",
       "    </tr>\n",
       "  </tbody>\n",
       "</table>\n",
       "</div>"
      ],
      "text/plain": [
       "     0cols                    1GTD                GDELT    Score\n",
       "0  lat/lng  [35.725265, 71.288397]   [34.7922, 72.6164]  0.19062\n",
       "1     date     2015-10-31 00:00:00  2015-01-08 00:00:00  0.19062\n",
       "2       id            201510310005            331104361  0.19062"
      ]
     },
     "metadata": {},
     "output_type": "display_data"
    },
    {
     "data": {
      "text/html": [
       "<div>\n",
       "<table border=\"1\" class=\"dataframe\">\n",
       "  <thead>\n",
       "    <tr style=\"text-align: right;\">\n",
       "      <th></th>\n",
       "      <th>0cols</th>\n",
       "      <th>1GTD</th>\n",
       "      <th>GDELT</th>\n",
       "      <th>Score</th>\n",
       "    </tr>\n",
       "  </thead>\n",
       "  <tbody>\n",
       "    <tr>\n",
       "      <th>0</th>\n",
       "      <td>lat/lng</td>\n",
       "      <td>[6.474417, 122.105078]</td>\n",
       "      <td>[6.7085, 121.971]</td>\n",
       "      <td>0.393774</td>\n",
       "    </tr>\n",
       "    <tr>\n",
       "      <th>1</th>\n",
       "      <td>date</td>\n",
       "      <td>2015-10-02 00:00:00</td>\n",
       "      <td>2015-01-08 00:00:00</td>\n",
       "      <td>0.393774</td>\n",
       "    </tr>\n",
       "    <tr>\n",
       "      <th>2</th>\n",
       "      <td>id</td>\n",
       "      <td>201510020037</td>\n",
       "      <td>331030616</td>\n",
       "      <td>0.393774</td>\n",
       "    </tr>\n",
       "  </tbody>\n",
       "</table>\n",
       "</div>"
      ],
      "text/plain": [
       "     0cols                    1GTD                GDELT     Score\n",
       "0  lat/lng  [6.474417, 122.105078]    [6.7085, 121.971]  0.393774\n",
       "1     date     2015-10-02 00:00:00  2015-01-08 00:00:00  0.393774\n",
       "2       id            201510020037            331030616  0.393774"
      ]
     },
     "metadata": {},
     "output_type": "display_data"
    },
    {
     "data": {
      "text/html": [
       "<div>\n",
       "<table border=\"1\" class=\"dataframe\">\n",
       "  <thead>\n",
       "    <tr style=\"text-align: right;\">\n",
       "      <th></th>\n",
       "      <th>0cols</th>\n",
       "      <th>1GTD</th>\n",
       "      <th>GDELT</th>\n",
       "      <th>Score</th>\n",
       "    </tr>\n",
       "  </thead>\n",
       "  <tbody>\n",
       "    <tr>\n",
       "      <th>0</th>\n",
       "      <td>lat/lng</td>\n",
       "      <td>[3.890551, -77.078864]</td>\n",
       "      <td>[-2.0, -77.5]</td>\n",
       "      <td>0.072405</td>\n",
       "    </tr>\n",
       "    <tr>\n",
       "      <th>1</th>\n",
       "      <td>date</td>\n",
       "      <td>2015-06-26 00:00:00</td>\n",
       "      <td>2015-01-08 00:00:00</td>\n",
       "      <td>0.072405</td>\n",
       "    </tr>\n",
       "    <tr>\n",
       "      <th>2</th>\n",
       "      <td>id</td>\n",
       "      <td>201506260002</td>\n",
       "      <td>331058893</td>\n",
       "      <td>0.072405</td>\n",
       "    </tr>\n",
       "  </tbody>\n",
       "</table>\n",
       "</div>"
      ],
      "text/plain": [
       "     0cols                    1GTD                GDELT     Score\n",
       "0  lat/lng  [3.890551, -77.078864]        [-2.0, -77.5]  0.072405\n",
       "1     date     2015-06-26 00:00:00  2015-01-08 00:00:00  0.072405\n",
       "2       id            201506260002            331058893  0.072405"
      ]
     },
     "metadata": {},
     "output_type": "display_data"
    },
    {
     "data": {
      "text/html": [
       "<div>\n",
       "<table border=\"1\" class=\"dataframe\">\n",
       "  <thead>\n",
       "    <tr style=\"text-align: right;\">\n",
       "      <th></th>\n",
       "      <th>0cols</th>\n",
       "      <th>1GTD</th>\n",
       "      <th>GDELT</th>\n",
       "      <th>Score</th>\n",
       "    </tr>\n",
       "  </thead>\n",
       "  <tbody>\n",
       "    <tr>\n",
       "      <th>0</th>\n",
       "      <td>lat/lng</td>\n",
       "      <td>[30.194298, 66.998676]</td>\n",
       "      <td>[30.199, 67.0097]</td>\n",
       "      <td>0.494079</td>\n",
       "    </tr>\n",
       "    <tr>\n",
       "      <th>1</th>\n",
       "      <td>date</td>\n",
       "      <td>2015-06-06 00:00:00</td>\n",
       "      <td>2015-01-08 00:00:00</td>\n",
       "      <td>0.494079</td>\n",
       "    </tr>\n",
       "    <tr>\n",
       "      <th>2</th>\n",
       "      <td>id</td>\n",
       "      <td>201506060035</td>\n",
       "      <td>331118301</td>\n",
       "      <td>0.494079</td>\n",
       "    </tr>\n",
       "  </tbody>\n",
       "</table>\n",
       "</div>"
      ],
      "text/plain": [
       "     0cols                    1GTD                GDELT     Score\n",
       "0  lat/lng  [30.194298, 66.998676]    [30.199, 67.0097]  0.494079\n",
       "1     date     2015-06-06 00:00:00  2015-01-08 00:00:00  0.494079\n",
       "2       id            201506060035            331118301  0.494079"
      ]
     },
     "metadata": {},
     "output_type": "display_data"
    },
    {
     "data": {
      "text/html": [
       "<div>\n",
       "<table border=\"1\" class=\"dataframe\">\n",
       "  <thead>\n",
       "    <tr style=\"text-align: right;\">\n",
       "      <th></th>\n",
       "      <th>0cols</th>\n",
       "      <th>1GTD</th>\n",
       "      <th>GDELT</th>\n",
       "      <th>Score</th>\n",
       "    </tr>\n",
       "  </thead>\n",
       "  <tbody>\n",
       "    <tr>\n",
       "      <th>0</th>\n",
       "      <td>lat/lng</td>\n",
       "      <td>[47.457121, 37.864227]</td>\n",
       "      <td>[48.5956, 37.9999]</td>\n",
       "      <td>0.232934</td>\n",
       "    </tr>\n",
       "    <tr>\n",
       "      <th>1</th>\n",
       "      <td>date</td>\n",
       "      <td>2015-08-25 00:00:00</td>\n",
       "      <td>2015-01-08 00:00:00</td>\n",
       "      <td>0.232934</td>\n",
       "    </tr>\n",
       "    <tr>\n",
       "      <th>2</th>\n",
       "      <td>id</td>\n",
       "      <td>201508250091</td>\n",
       "      <td>331102952</td>\n",
       "      <td>0.232934</td>\n",
       "    </tr>\n",
       "  </tbody>\n",
       "</table>\n",
       "</div>"
      ],
      "text/plain": [
       "     0cols                    1GTD                GDELT     Score\n",
       "0  lat/lng  [47.457121, 37.864227]   [48.5956, 37.9999]  0.232934\n",
       "1     date     2015-08-25 00:00:00  2015-01-08 00:00:00  0.232934\n",
       "2       id            201508250091            331102952  0.232934"
      ]
     },
     "metadata": {},
     "output_type": "display_data"
    },
    {
     "data": {
      "text/html": [
       "<div>\n",
       "<table border=\"1\" class=\"dataframe\">\n",
       "  <thead>\n",
       "    <tr style=\"text-align: right;\">\n",
       "      <th></th>\n",
       "      <th>0cols</th>\n",
       "      <th>1GTD</th>\n",
       "      <th>GDELT</th>\n",
       "      <th>Score</th>\n",
       "    </tr>\n",
       "  </thead>\n",
       "  <tbody>\n",
       "    <tr>\n",
       "      <th>0</th>\n",
       "      <td>lat/lng</td>\n",
       "      <td>[33.730833, 70.977778]</td>\n",
       "      <td>[34.0078, 71.5733]</td>\n",
       "      <td>0.301791</td>\n",
       "    </tr>\n",
       "    <tr>\n",
       "      <th>1</th>\n",
       "      <td>date</td>\n",
       "      <td>2015-02-28 00:00:00</td>\n",
       "      <td>2015-01-08 00:00:00</td>\n",
       "      <td>0.301791</td>\n",
       "    </tr>\n",
       "    <tr>\n",
       "      <th>2</th>\n",
       "      <td>id</td>\n",
       "      <td>201502280022</td>\n",
       "      <td>331118282</td>\n",
       "      <td>0.301791</td>\n",
       "    </tr>\n",
       "  </tbody>\n",
       "</table>\n",
       "</div>"
      ],
      "text/plain": [
       "     0cols                    1GTD                GDELT     Score\n",
       "0  lat/lng  [33.730833, 70.977778]   [34.0078, 71.5733]  0.301791\n",
       "1     date     2015-02-28 00:00:00  2015-01-08 00:00:00  0.301791\n",
       "2       id            201502280022            331118282  0.301791"
      ]
     },
     "metadata": {},
     "output_type": "display_data"
    },
    {
     "data": {
      "text/html": [
       "<div>\n",
       "<table border=\"1\" class=\"dataframe\">\n",
       "  <thead>\n",
       "    <tr style=\"text-align: right;\">\n",
       "      <th></th>\n",
       "      <th>0cols</th>\n",
       "      <th>1GTD</th>\n",
       "      <th>GDELT</th>\n",
       "      <th>Score</th>\n",
       "    </tr>\n",
       "  </thead>\n",
       "  <tbody>\n",
       "    <tr>\n",
       "      <th>0</th>\n",
       "      <td>lat/lng</td>\n",
       "      <td>[6.942258, 124.419824]</td>\n",
       "      <td>[6.7085, 121.971]</td>\n",
       "      <td>0.144511</td>\n",
       "    </tr>\n",
       "    <tr>\n",
       "      <th>1</th>\n",
       "      <td>date</td>\n",
       "      <td>2015-12-31 00:00:00</td>\n",
       "      <td>2015-01-08 00:00:00</td>\n",
       "      <td>0.144511</td>\n",
       "    </tr>\n",
       "    <tr>\n",
       "      <th>2</th>\n",
       "      <td>id</td>\n",
       "      <td>201512310027</td>\n",
       "      <td>331030616</td>\n",
       "      <td>0.144511</td>\n",
       "    </tr>\n",
       "  </tbody>\n",
       "</table>\n",
       "</div>"
      ],
      "text/plain": [
       "     0cols                    1GTD                GDELT     Score\n",
       "0  lat/lng  [6.942258, 124.419824]    [6.7085, 121.971]  0.144511\n",
       "1     date     2015-12-31 00:00:00  2015-01-08 00:00:00  0.144511\n",
       "2       id            201512310027            331030616  0.144511"
      ]
     },
     "metadata": {},
     "output_type": "display_data"
    },
    {
     "data": {
      "text/html": [
       "<div>\n",
       "<table border=\"1\" class=\"dataframe\">\n",
       "  <thead>\n",
       "    <tr style=\"text-align: right;\">\n",
       "      <th></th>\n",
       "      <th>0cols</th>\n",
       "      <th>1GTD</th>\n",
       "      <th>GDELT</th>\n",
       "      <th>Score</th>\n",
       "    </tr>\n",
       "  </thead>\n",
       "  <tbody>\n",
       "    <tr>\n",
       "      <th>0</th>\n",
       "      <td>lat/lng</td>\n",
       "      <td>[23.815983, 90.366241]</td>\n",
       "      <td>[23.7231, 90.4086]</td>\n",
       "      <td>0.453685</td>\n",
       "    </tr>\n",
       "    <tr>\n",
       "      <th>1</th>\n",
       "      <td>date</td>\n",
       "      <td>2015-01-30 00:00:00</td>\n",
       "      <td>2015-01-08 00:00:00</td>\n",
       "      <td>0.453685</td>\n",
       "    </tr>\n",
       "    <tr>\n",
       "      <th>2</th>\n",
       "      <td>id</td>\n",
       "      <td>201501300087</td>\n",
       "      <td>330993527</td>\n",
       "      <td>0.453685</td>\n",
       "    </tr>\n",
       "  </tbody>\n",
       "</table>\n",
       "</div>"
      ],
      "text/plain": [
       "     0cols                    1GTD                GDELT     Score\n",
       "0  lat/lng  [23.815983, 90.366241]   [23.7231, 90.4086]  0.453685\n",
       "1     date     2015-01-30 00:00:00  2015-01-08 00:00:00  0.453685\n",
       "2       id            201501300087            330993527  0.453685"
      ]
     },
     "metadata": {},
     "output_type": "display_data"
    },
    {
     "data": {
      "text/html": [
       "<div>\n",
       "<table border=\"1\" class=\"dataframe\">\n",
       "  <thead>\n",
       "    <tr style=\"text-align: right;\">\n",
       "      <th></th>\n",
       "      <th>0cols</th>\n",
       "      <th>1GTD</th>\n",
       "      <th>GDELT</th>\n",
       "      <th>Score</th>\n",
       "    </tr>\n",
       "  </thead>\n",
       "  <tbody>\n",
       "    <tr>\n",
       "      <th>0</th>\n",
       "      <td>lat/lng</td>\n",
       "      <td>[48.06747, 37.671636]</td>\n",
       "      <td>[48.5956, 37.9999]</td>\n",
       "      <td>0.308293</td>\n",
       "    </tr>\n",
       "    <tr>\n",
       "      <th>1</th>\n",
       "      <td>date</td>\n",
       "      <td>2015-03-23 00:00:00</td>\n",
       "      <td>2015-01-08 00:00:00</td>\n",
       "      <td>0.308293</td>\n",
       "    </tr>\n",
       "    <tr>\n",
       "      <th>2</th>\n",
       "      <td>id</td>\n",
       "      <td>201503230066</td>\n",
       "      <td>331102952</td>\n",
       "      <td>0.308293</td>\n",
       "    </tr>\n",
       "  </tbody>\n",
       "</table>\n",
       "</div>"
      ],
      "text/plain": [
       "     0cols                   1GTD                GDELT     Score\n",
       "0  lat/lng  [48.06747, 37.671636]   [48.5956, 37.9999]  0.308293\n",
       "1     date    2015-03-23 00:00:00  2015-01-08 00:00:00  0.308293\n",
       "2       id           201503230066            331102952  0.308293"
      ]
     },
     "metadata": {},
     "output_type": "display_data"
    },
    {
     "data": {
      "text/html": [
       "<div>\n",
       "<table border=\"1\" class=\"dataframe\">\n",
       "  <thead>\n",
       "    <tr style=\"text-align: right;\">\n",
       "      <th></th>\n",
       "      <th>0cols</th>\n",
       "      <th>1GTD</th>\n",
       "      <th>GDELT</th>\n",
       "      <th>Score</th>\n",
       "    </tr>\n",
       "  </thead>\n",
       "  <tbody>\n",
       "    <tr>\n",
       "      <th>0</th>\n",
       "      <td>lat/lng</td>\n",
       "      <td>[33.336614, 69.923725]</td>\n",
       "      <td>[34.5167, 69.1833]</td>\n",
       "      <td>0.208931</td>\n",
       "    </tr>\n",
       "    <tr>\n",
       "      <th>1</th>\n",
       "      <td>date</td>\n",
       "      <td>2015-06-17 00:00:00</td>\n",
       "      <td>2015-01-08 00:00:00</td>\n",
       "      <td>0.208931</td>\n",
       "    </tr>\n",
       "    <tr>\n",
       "      <th>2</th>\n",
       "      <td>id</td>\n",
       "      <td>201506170108</td>\n",
       "      <td>331127561</td>\n",
       "      <td>0.208931</td>\n",
       "    </tr>\n",
       "  </tbody>\n",
       "</table>\n",
       "</div>"
      ],
      "text/plain": [
       "     0cols                    1GTD                GDELT     Score\n",
       "0  lat/lng  [33.336614, 69.923725]   [34.5167, 69.1833]  0.208931\n",
       "1     date     2015-06-17 00:00:00  2015-01-08 00:00:00  0.208931\n",
       "2       id            201506170108            331127561  0.208931"
      ]
     },
     "metadata": {},
     "output_type": "display_data"
    },
    {
     "data": {
      "text/html": [
       "<div>\n",
       "<table border=\"1\" class=\"dataframe\">\n",
       "  <thead>\n",
       "    <tr style=\"text-align: right;\">\n",
       "      <th></th>\n",
       "      <th>0cols</th>\n",
       "      <th>1GTD</th>\n",
       "      <th>GDELT</th>\n",
       "      <th>Score</th>\n",
       "    </tr>\n",
       "  </thead>\n",
       "  <tbody>\n",
       "    <tr>\n",
       "      <th>0</th>\n",
       "      <td>lat/lng</td>\n",
       "      <td>[34.814444, 71.774167]</td>\n",
       "      <td>[34.0078, 71.5733]</td>\n",
       "      <td>0.273034</td>\n",
       "    </tr>\n",
       "    <tr>\n",
       "      <th>1</th>\n",
       "      <td>date</td>\n",
       "      <td>2015-03-29 00:00:00</td>\n",
       "      <td>2015-01-08 00:00:00</td>\n",
       "      <td>0.273034</td>\n",
       "    </tr>\n",
       "    <tr>\n",
       "      <th>2</th>\n",
       "      <td>id</td>\n",
       "      <td>201503290022</td>\n",
       "      <td>331118282</td>\n",
       "      <td>0.273034</td>\n",
       "    </tr>\n",
       "  </tbody>\n",
       "</table>\n",
       "</div>"
      ],
      "text/plain": [
       "     0cols                    1GTD                GDELT     Score\n",
       "0  lat/lng  [34.814444, 71.774167]   [34.0078, 71.5733]  0.273034\n",
       "1     date     2015-03-29 00:00:00  2015-01-08 00:00:00  0.273034\n",
       "2       id            201503290022            331118282  0.273034"
      ]
     },
     "metadata": {},
     "output_type": "display_data"
    },
    {
     "data": {
      "text/html": [
       "<div>\n",
       "<table border=\"1\" class=\"dataframe\">\n",
       "  <thead>\n",
       "    <tr style=\"text-align: right;\">\n",
       "      <th></th>\n",
       "      <th>0cols</th>\n",
       "      <th>1GTD</th>\n",
       "      <th>GDELT</th>\n",
       "      <th>Score</th>\n",
       "    </tr>\n",
       "  </thead>\n",
       "  <tbody>\n",
       "    <tr>\n",
       "      <th>0</th>\n",
       "      <td>lat/lng</td>\n",
       "      <td>[24.894681, 67.056885]</td>\n",
       "      <td>[24.8667, 67.05]</td>\n",
       "      <td>0.485996</td>\n",
       "    </tr>\n",
       "    <tr>\n",
       "      <th>1</th>\n",
       "      <td>date</td>\n",
       "      <td>2015-10-12 00:00:00</td>\n",
       "      <td>2015-01-08 00:00:00</td>\n",
       "      <td>0.485996</td>\n",
       "    </tr>\n",
       "    <tr>\n",
       "      <th>2</th>\n",
       "      <td>id</td>\n",
       "      <td>201510120077</td>\n",
       "      <td>331105330</td>\n",
       "      <td>0.485996</td>\n",
       "    </tr>\n",
       "  </tbody>\n",
       "</table>\n",
       "</div>"
      ],
      "text/plain": [
       "     0cols                    1GTD                GDELT     Score\n",
       "0  lat/lng  [24.894681, 67.056885]     [24.8667, 67.05]  0.485996\n",
       "1     date     2015-10-12 00:00:00  2015-01-08 00:00:00  0.485996\n",
       "2       id            201510120077            331105330  0.485996"
      ]
     },
     "metadata": {},
     "output_type": "display_data"
    },
    {
     "data": {
      "text/html": [
       "<div>\n",
       "<table border=\"1\" class=\"dataframe\">\n",
       "  <thead>\n",
       "    <tr style=\"text-align: right;\">\n",
       "      <th></th>\n",
       "      <th>0cols</th>\n",
       "      <th>1GTD</th>\n",
       "      <th>GDELT</th>\n",
       "      <th>Score</th>\n",
       "    </tr>\n",
       "  </thead>\n",
       "  <tbody>\n",
       "    <tr>\n",
       "      <th>0</th>\n",
       "      <td>lat/lng</td>\n",
       "      <td>[46.481897, 30.726051]</td>\n",
       "      <td>[49.0, 32.0]</td>\n",
       "      <td>0.130821</td>\n",
       "    </tr>\n",
       "    <tr>\n",
       "      <th>1</th>\n",
       "      <td>date</td>\n",
       "      <td>2015-10-09 00:00:00</td>\n",
       "      <td>2015-01-08 00:00:00</td>\n",
       "      <td>0.130821</td>\n",
       "    </tr>\n",
       "    <tr>\n",
       "      <th>2</th>\n",
       "      <td>id</td>\n",
       "      <td>201510090037</td>\n",
       "      <td>331119259</td>\n",
       "      <td>0.130821</td>\n",
       "    </tr>\n",
       "  </tbody>\n",
       "</table>\n",
       "</div>"
      ],
      "text/plain": [
       "     0cols                    1GTD                GDELT     Score\n",
       "0  lat/lng  [46.481897, 30.726051]         [49.0, 32.0]  0.130821\n",
       "1     date     2015-10-09 00:00:00  2015-01-08 00:00:00  0.130821\n",
       "2       id            201510090037            331119259  0.130821"
      ]
     },
     "metadata": {},
     "output_type": "display_data"
    }
   ],
   "source": [
    "#weights should sum to 1\n",
    "W_LATLNG=0.5\n",
    "W_DATE=0.5\n",
    "\n",
    "#choose what tuples of GTD you want to match against\n",
    "targets = gtdf.sample(20)\n",
    "\n",
    "for _, target in targets.iterrows(): \n",
    "    scores = []\n",
    "    for _, row in gdeltf.iterrows():\n",
    "        score = sim(target, row)\n",
    "        scores.append(score)\n",
    "\n",
    "    i = np.nanargmax(scores)\n",
    "    match = gdeltf.iloc[i]\n",
    "    display(print_table(target, match, scores[i]))"
   ]
  },
  {
   "cell_type": "code",
   "execution_count": 131,
   "metadata": {
    "collapsed": false
   },
   "outputs": [],
   "source": []
  },
  {
   "cell_type": "code",
   "execution_count": null,
   "metadata": {
    "collapsed": false
   },
   "outputs": [],
   "source": []
  },
  {
   "cell_type": "code",
   "execution_count": null,
   "metadata": {
    "collapsed": false
   },
   "outputs": [],
   "source": []
  },
  {
   "cell_type": "code",
   "execution_count": null,
   "metadata": {
    "collapsed": false
   },
   "outputs": [],
   "source": []
  },
  {
   "cell_type": "code",
   "execution_count": null,
   "metadata": {
    "collapsed": false
   },
   "outputs": [],
   "source": []
  },
  {
   "cell_type": "code",
   "execution_count": null,
   "metadata": {
    "collapsed": false
   },
   "outputs": [],
   "source": []
  }
 ],
 "metadata": {
  "kernelspec": {
   "display_name": "Python 2",
   "language": "python",
   "name": "python2"
  },
  "language_info": {
   "codemirror_mode": {
    "name": "ipython",
    "version": 2
   },
   "file_extension": ".py",
   "mimetype": "text/x-python",
   "name": "python",
   "nbconvert_exporter": "python",
   "pygments_lexer": "ipython2",
   "version": "2.7.11"
  }
 },
 "nbformat": 4,
 "nbformat_minor": 0
}
