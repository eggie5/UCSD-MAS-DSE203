{
 "cells": [
  {
   "cell_type": "markdown",
   "metadata": {},
   "source": [
    "# Data Matching\n",
    "\n",
    "A major topic of ETL is string matching and data matching. While string matching returns a simularity score between two strings, data matching returning a simularity between two two tuples (rows) in a database. For example, we would like to determine whether the tuples `(David Smith, 608-245-4367, Madison WI)` and `(D. M. Smith, 245-4367, Madison WI)` refer to the same person.\n",
    "\n",
    "The problem of data matching arises in many integration situations. In the simplest case, we may be merging multiple databases with identical schemas, but without a unique global ID, and want to decide which rows are duplicates. The problem is complicated when we need to join rows from sources that have different schemas. Data matching may also arise at query time. For example, a query may often imprecisely refer to a particular data item, e.g., a query asking for the phone number of a David Smith who lives in Madison. We need to employ data matching techniques to decide which tuples in the database match the query.\n",
    "\n",
    "In this project, we will complete a cross-dataset join across two terrorism databases w/ differnent schemas: GTD and GDELT.\n",
    "\n",
    "## Techniques\n",
    "\n",
    "We cover several classes of solutions to the data matching problem. The first kind employs handcrafted rules, or **Rule-based Matching** to match tuples. These techniques typically make heavy use of domain-specific knowledge in domains where the complexity of the rules is manageable. The next kind of solution, **Learning-based Matching** learns the appropriate rules from labeled examples, using supervised learning. The third kind, **clustering** does not use training data. Instead, it iteratively assigns tuples to clusters, such that all tuples within a single cluster match and those across clusters do not."
   ]
  },
  {
   "cell_type": "code",
   "execution_count": 1,
   "metadata": {
    "collapsed": false
   },
   "outputs": [
    {
     "name": "stdout",
     "output_type": "stream",
     "text": [
      "Populating the interactive namespace from numpy and matplotlib\n"
     ]
    }
   ],
   "source": [
    "import pandas as pd\n",
    "%pylab inline"
   ]
  },
  {
   "cell_type": "markdown",
   "metadata": {},
   "source": [
    "## Data\n",
    "\n",
    "Load the two datasets"
   ]
  },
  {
   "cell_type": "code",
   "execution_count": 2,
   "metadata": {
    "collapsed": true
   },
   "outputs": [],
   "source": [
    "gtd=pd.read_excel(\"data/gtd_12to15_0616dist.xlsx\")"
   ]
  },
  {
   "cell_type": "code",
   "execution_count": 3,
   "metadata": {
    "collapsed": false
   },
   "outputs": [
    {
     "name": "stderr",
     "output_type": "stream",
     "text": [
      "/usr/local/lib/python2.7/site-packages/IPython/core/interactiveshell.py:2902: DtypeWarning: Columns (8,9,10,11,14,19) have mixed types. Specify dtype option on import or set low_memory=False.\n",
      "  interactivity=interactivity, compiler=compiler, result=result)\n"
     ]
    }
   ],
   "source": [
    "headers = pd.read_excel(\"data/GDELT Metadata.xlsx\").columns.values\n",
    "gdelt = pd.read_csv(\"data/20150108.export.txt\", delimiter=\"\\t\", names=headers)"
   ]
  },
  {
   "cell_type": "markdown",
   "metadata": {},
   "source": [
    "### Cleaning\n",
    "\n",
    "Remove tuples where lat/lng or date is na"
   ]
  },
  {
   "cell_type": "code",
   "execution_count": 65,
   "metadata": {
    "collapsed": false
   },
   "outputs": [],
   "source": [
    "gtd = gtd.dropna(subset=['latitude', 'longitude', 'iday'])"
   ]
  },
  {
   "cell_type": "markdown",
   "metadata": {
    "collapsed": false
   },
   "source": [
    "## Common Years\n",
    "\n",
    "The two datasets intersect for years 2014-2015"
   ]
  },
  {
   "cell_type": "code",
   "execution_count": 4,
   "metadata": {
    "collapsed": false
   },
   "outputs": [
    {
     "data": {
      "text/plain": [
       "2014    16840\n",
       "2015    14806\n",
       "2013    11990\n",
       "2012     8498\n",
       "Name: iyear, dtype: int64"
      ]
     },
     "execution_count": 4,
     "metadata": {},
     "output_type": "execute_result"
    }
   ],
   "source": [
    "gtd.iyear.value_counts()"
   ]
  },
  {
   "cell_type": "code",
   "execution_count": 5,
   "metadata": {
    "collapsed": false
   },
   "outputs": [
    {
     "data": {
      "text/plain": [
       "2015    159954\n",
       "2014      2792\n",
       "2005        44\n",
       "Name: Year, dtype: int64"
      ]
     },
     "execution_count": 5,
     "metadata": {},
     "output_type": "execute_result"
    }
   ],
   "source": [
    "gdelt.Year.value_counts()"
   ]
  },
  {
   "cell_type": "markdown",
   "metadata": {},
   "source": [
    "The years in GDLET are distributed strangly:"
   ]
  },
  {
   "cell_type": "code",
   "execution_count": 6,
   "metadata": {
    "collapsed": false
   },
   "outputs": [
    {
     "data": {
      "text/plain": [
       "20150108    157419\n",
       "20140108      1822\n",
       "20150107      1445\n",
       "20141209       970\n",
       "20150101       774\n",
       "20150109       316\n",
       "20050110        44\n",
       "Name: Day, dtype: int64"
      ]
     },
     "execution_count": 6,
     "metadata": {},
     "output_type": "execute_result"
    }
   ],
   "source": [
    "gdelt.Day.value_counts()"
   ]
  },
  {
   "cell_type": "code",
   "execution_count": 7,
   "metadata": {
    "collapsed": false
   },
   "outputs": [
    {
     "data": {
      "text/plain": [
       "{2014, 2015}"
      ]
     },
     "execution_count": 7,
     "metadata": {},
     "output_type": "execute_result"
    }
   ],
   "source": [
    "set(gtd.iyear).intersection(set(gdelt.Year))"
   ]
  },
  {
   "cell_type": "markdown",
   "metadata": {},
   "source": [
    "Filter for 2015"
   ]
  },
  {
   "cell_type": "code",
   "execution_count": 72,
   "metadata": {
    "collapsed": false
   },
   "outputs": [],
   "source": [
    "#limit query to year 2015 b/c both datasest have full 2015 data\n",
    "gtdf = gtd[(gtd.iyear==2015) | (gtd.iyear==2014)]\n",
    "gdeltf=gdelt[(gdelt.Year==2015) | (gdelt.Year==2014)].sample(500) #sampling a subset of the data for fast testing"
   ]
  },
  {
   "cell_type": "code",
   "execution_count": null,
   "metadata": {
    "collapsed": false
   },
   "outputs": [],
   "source": []
  },
  {
   "cell_type": "markdown",
   "metadata": {},
   "source": [
    "# Rule-Based Matching\n",
    "\n",
    "## Common Columns\n",
    "\n",
    "We need to define the mapping between the columns that are in common between the two datasets.\n",
    "\n",
    "I could only identify 2 columns that map GTD to GDELT. Key is GTD column Value is GDELT column\n",
    "\n",
    "* iyear/imonth/iday : Day - convert to int seconds and measure euclidian distance\n",
    "* latitude/longitude : ActionGeo_Lat/ActionGeo_Long - convert to 2D vector and measure euclidian distance"
   ]
  },
  {
   "cell_type": "markdown",
   "metadata": {},
   "source": [
    "# Simularity Metric\n",
    "\n",
    "We begin by covering approaches that employ handcrafted matching rules. A simple yet popular type of rule computes the similarity score between a pair of tuples $x$ and $y$ as a *linearly weighted combination* of the individual similarity scores:\n",
    "\n",
    "$$\n",
    "\\DeclareMathOperator*{\\argmax}{\\arg\\!\\max}\\\\\n",
    "sim(x, y) = \\sum_{i=1}^n \\alpha_i sim_i(x,y)\\\\\n",
    "match(GTD, GDELT) = \\argmax(sim(GTD_n, GDELT))\\\\\n",
    "$$\n",
    "\n",
    "where $n$ is the number of common coloumns between tables $X$ and $Y$ (in this case 2), $s_i(x,y) ∈ [0,1]$ is a similarity score between the $i$th attributes of $x$ and $y$, and $\\alpha_i ∈ [0, 1]$ is a prespecified weight that indicates the importance of the $i$th attribute to the overall similarity score, such that 􏰈$\\Sigma_{i=1}^n \\alpha_i = 1$. We declare $x$ and $y$ matched if $sim(x,y) ≥ β$ for a prespecified threshold $β$, and not matched otherwise."
   ]
  },
  {
   "cell_type": "markdown",
   "metadata": {},
   "source": [
    "## Python Implementation\n",
    "\n",
    "### Lat/Lng\n",
    "\n",
    "First we take each lat/lng and put them in a 2D vector format so we can take the euclidian disantace.\n",
    "\n",
    "### Date\n",
    "\n",
    "We take the date data from each touple and put it in native python `datetime` format. Then we convert each `datetime` into an integer representing the seconds from the epoch. We can then take the euclidian distance between two `datetimes`.\n",
    "\n",
    "## Computational Complexity\n",
    "\n",
    "This routine is a loop in a loop: O(n^2) growth complexity with 5,150,259,916 computations to run if we limit search to 2014-2015."
   ]
  },
  {
   "cell_type": "code",
   "execution_count": 9,
   "metadata": {
    "collapsed": false
   },
   "outputs": [
    {
     "name": "stdout",
     "output_type": "stream",
     "text": [
      "((31646, 137), (1000, 58))\n"
     ]
    },
    {
     "data": {
      "text/plain": [
       "31646000"
      ]
     },
     "execution_count": 9,
     "metadata": {},
     "output_type": "execute_result"
    }
   ],
   "source": [
    "print (gtdf.shape, gdeltf.shape)\n",
    "gtdf.shape[0] * gdeltf.shape[0]"
   ]
  },
  {
   "cell_type": "code",
   "execution_count": 36,
   "metadata": {
    "collapsed": true
   },
   "outputs": [],
   "source": [
    "#python implemention of the sim function above w/ 2 matching rules for lat/lng and date\n",
    "#arguments are pandas series (row) from each database\n",
    "def sim(target, match):\n",
    "    score = 0\n",
    "\n",
    "    #latlng\n",
    "    target_latlng = np.array(target[[\"latitude\", \"longitude\"]].values)\n",
    "    match_latlng = np.array(match[[\"ActionGeo_Lat\", \"ActionGeo_Long\"]].values)\n",
    "    dist = sim_latlng(target_latlng, match_latlng)\n",
    "    score += (W_LATLNG * dist)\n",
    "    \n",
    "    #date\n",
    "    target_date_parts = target[[\"iyear\", \"imonth\", \"iday\"]].values\n",
    "    target_date = datetime.datetime(target_date_parts[0], target_date_parts[1], target_date_parts[2])\n",
    "    target_seconds = int(target_date.strftime(\"%s\")) #seconds from epoch\n",
    "    match_date = datetime.datetime.strptime(str(match[[\"Day\"]][0]), \"%Y%m%d\")\n",
    "    match_seconds = int(match_date.strftime(\"%s\")) #seconds from epoch\n",
    "    date_dist = sim_date(target_seconds, match_seconds)\n",
    "    score += (W_DATE * date_dist)\n",
    "    \n",
    "    return score"
   ]
  },
  {
   "cell_type": "code",
   "execution_count": 37,
   "metadata": {
    "collapsed": false
   },
   "outputs": [],
   "source": [
    "#define lat/lng sim function\n",
    "#expect 2 1x2 numpy arrays\n",
    "def sim_latlng(a,b):\n",
    "    dist = numpy.linalg.norm(a-b)\n",
    "    sim = 1 / (1 + dist)\n",
    "    return sim"
   ]
  },
  {
   "cell_type": "code",
   "execution_count": 38,
   "metadata": {
    "collapsed": false
   },
   "outputs": [],
   "source": [
    "#try to match on date\n",
    "#2  integers represeignn seconds from th epoch\n",
    "def sim_date(a,b):\n",
    "    dist = numpy.linalg.norm(a-b)\n",
    "    sim = 1 / ( 1 + dist )\n",
    "    #sim = 1/exp(dist)\n",
    "    return sim"
   ]
  },
  {
   "cell_type": "code",
   "execution_count": 39,
   "metadata": {
    "collapsed": false
   },
   "outputs": [],
   "source": [
    "#utiltiy method to print match result\n",
    "def print_table(gtd, gdelt, score):\n",
    "    gtd_vals=[]\n",
    "    gdelt_vals=[]\n",
    "    \n",
    "    #latlng\n",
    "    gtd_vals.append(gtd[[\"latitude\", \"longitude\"]].values)\n",
    "    gdelt_vals.append(gdelt[[\"ActionGeo_Lat\", \"ActionGeo_Long\"]].values)\n",
    "    \n",
    "    #date\n",
    "    target_date_parts = gtd[[\"iyear\", \"imonth\", \"iday\"]].values\n",
    "    gtd_vals.append(datetime.datetime(target_date_parts[0], target_date_parts[1], target_date_parts[2]))\n",
    "    gdelt_vals.append(datetime.datetime.strptime(str(gdelt[[\"Day\"]][0]), \"%Y%m%d\"))\n",
    "    \n",
    "    #ids \n",
    "    gtd_vals.append(gtd.eventid)\n",
    "    gdelt_vals.append(gdelt.GlobalEventID)\n",
    "    \n",
    "    t_dict = {\"0cols\": [\"lat/lng\", \"date\", \"id\"], \"1GTD\": gtd_vals, \"GDELT\": gdelt_vals, \"Score\": score}\n",
    "    df = pd.DataFrame(t_dict)\n",
    "    return df"
   ]
  },
  {
   "cell_type": "markdown",
   "metadata": {},
   "source": [
    "## Results\n",
    "\n",
    "Here we iterate thought our targets in GTD and then compare against each candidate match in GDELT and return the closest match. A match is defined as the highest score which is computed by `nanargmax` below. We can also configure our weights here too:"
   ]
  },
  {
   "cell_type": "code",
   "execution_count": 165,
   "metadata": {
    "collapsed": false
   },
   "outputs": [],
   "source": [
    "# %%time\n",
    "\n",
    "#weights should sum to 1\n",
    "W_LATLNG=0.5\n",
    "W_DATE=0.5\n",
    "\n",
    "# threshold (beta)\n",
    "THRESHOLD = 0.3\n",
    "\n",
    "#choose what tuples of GTD you want to match against\n",
    "targets = gtdf.sample(500)\n",
    "matches = {}\n",
    "\n",
    "for _, target in targets.iterrows(): \n",
    "    scores = []\n",
    "    for _, row in gdeltf.iterrows():\n",
    "        score = sim(target, row)\n",
    "        scores.append(score)\n",
    "\n",
    "    i = np.nanargmax(scores)\n",
    "    high_score = scores[i]\n",
    "    #if above thershold, consider match\n",
    "    if high_score >= THRESHOLD:\n",
    "        match = gdeltf.iloc[i]\n",
    "        matches[target.eventid] = (high_score, match.GlobalEventID)\n",
    "    else:\n",
    "        matches[target.eventid] = (None, None)\n",
    "        pass\n",
    "\n"
   ]
  },
  {
   "cell_type": "markdown",
   "metadata": {
    "collapsed": false
   },
   "source": [
    "## Report\n",
    "\n",
    "Print out top 200 matches by score"
   ]
  },
  {
   "cell_type": "code",
   "execution_count": 161,
   "metadata": {
    "collapsed": false
   },
   "outputs": [],
   "source": [
    "sorted_matches = sorted(matches.items(), key=lambda x: x[1][0], reverse=True)\n",
    "top200 = sorted_matches[0:200]"
   ]
  },
  {
   "cell_type": "code",
   "execution_count": 164,
   "metadata": {
    "collapsed": false
   },
   "outputs": [
    {
     "data": {
      "text/html": [
       "<div>\n",
       "<table border=\"1\" class=\"dataframe\">\n",
       "  <thead>\n",
       "    <tr style=\"text-align: right;\">\n",
       "      <th></th>\n",
       "      <th>GTD</th>\n",
       "      <th>Scores</th>\n",
       "      <th>GDELT</th>\n",
       "    </tr>\n",
       "  </thead>\n",
       "  <tbody>\n",
       "    <tr>\n",
       "      <th>0</th>\n",
       "      <td>201501080044</td>\n",
       "      <td>0.79047</td>\n",
       "      <td>331086010</td>\n",
       "    </tr>\n",
       "    <tr>\n",
       "      <th>1</th>\n",
       "      <td>201402040024</td>\n",
       "      <td>0.498219</td>\n",
       "      <td>331102903</td>\n",
       "    </tr>\n",
       "    <tr>\n",
       "      <th>2</th>\n",
       "      <td>201503200010</td>\n",
       "      <td>0.496556</td>\n",
       "      <td>331148729</td>\n",
       "    </tr>\n",
       "    <tr>\n",
       "      <th>3</th>\n",
       "      <td>201401270026</td>\n",
       "      <td>0.494605</td>\n",
       "      <td>331069193</td>\n",
       "    </tr>\n",
       "    <tr>\n",
       "      <th>4</th>\n",
       "      <td>201405190045</td>\n",
       "      <td>0.493954</td>\n",
       "      <td>330998638</td>\n",
       "    </tr>\n",
       "    <tr>\n",
       "      <th>5</th>\n",
       "      <td>201412040001</td>\n",
       "      <td>0.491366</td>\n",
       "      <td>331073827</td>\n",
       "    </tr>\n",
       "    <tr>\n",
       "      <th>6</th>\n",
       "      <td>201409210036</td>\n",
       "      <td>0.489861</td>\n",
       "      <td>331148729</td>\n",
       "    </tr>\n",
       "    <tr>\n",
       "      <th>7</th>\n",
       "      <td>201408260087</td>\n",
       "      <td>0.470348</td>\n",
       "      <td>331104369</td>\n",
       "    </tr>\n",
       "    <tr>\n",
       "      <th>8</th>\n",
       "      <td>201401090010</td>\n",
       "      <td>0.470348</td>\n",
       "      <td>331104369</td>\n",
       "    </tr>\n",
       "    <tr>\n",
       "      <th>9</th>\n",
       "      <td>201401160046</td>\n",
       "      <td>0.461567</td>\n",
       "      <td>331073827</td>\n",
       "    </tr>\n",
       "    <tr>\n",
       "      <th>10</th>\n",
       "      <td>201412130001</td>\n",
       "      <td>0.461166</td>\n",
       "      <td>331073827</td>\n",
       "    </tr>\n",
       "    <tr>\n",
       "      <th>11</th>\n",
       "      <td>201512080013</td>\n",
       "      <td>0.459884</td>\n",
       "      <td>331073827</td>\n",
       "    </tr>\n",
       "    <tr>\n",
       "      <th>12</th>\n",
       "      <td>201402030049</td>\n",
       "      <td>0.458959</td>\n",
       "      <td>331102903</td>\n",
       "    </tr>\n",
       "    <tr>\n",
       "      <th>13</th>\n",
       "      <td>201409170069</td>\n",
       "      <td>0.448545</td>\n",
       "      <td>331073827</td>\n",
       "    </tr>\n",
       "    <tr>\n",
       "      <th>14</th>\n",
       "      <td>201505220025</td>\n",
       "      <td>0.438049</td>\n",
       "      <td>331102903</td>\n",
       "    </tr>\n",
       "    <tr>\n",
       "      <th>15</th>\n",
       "      <td>201407200035</td>\n",
       "      <td>0.429032</td>\n",
       "      <td>331060534</td>\n",
       "    </tr>\n",
       "    <tr>\n",
       "      <th>16</th>\n",
       "      <td>201502030096</td>\n",
       "      <td>0.426164</td>\n",
       "      <td>331103981</td>\n",
       "    </tr>\n",
       "    <tr>\n",
       "      <th>17</th>\n",
       "      <td>201408250022</td>\n",
       "      <td>0.400668</td>\n",
       "      <td>331060534</td>\n",
       "    </tr>\n",
       "    <tr>\n",
       "      <th>18</th>\n",
       "      <td>201412240033</td>\n",
       "      <td>0.395235</td>\n",
       "      <td>331011488</td>\n",
       "    </tr>\n",
       "    <tr>\n",
       "      <th>19</th>\n",
       "      <td>201502100001</td>\n",
       "      <td>0.390711</td>\n",
       "      <td>331073827</td>\n",
       "    </tr>\n",
       "    <tr>\n",
       "      <th>20</th>\n",
       "      <td>201503050003</td>\n",
       "      <td>0.390703</td>\n",
       "      <td>331073827</td>\n",
       "    </tr>\n",
       "    <tr>\n",
       "      <th>21</th>\n",
       "      <td>201409300040</td>\n",
       "      <td>0.374212</td>\n",
       "      <td>331073827</td>\n",
       "    </tr>\n",
       "    <tr>\n",
       "      <th>22</th>\n",
       "      <td>201412210034</td>\n",
       "      <td>0.331051</td>\n",
       "      <td>331073827</td>\n",
       "    </tr>\n",
       "    <tr>\n",
       "      <th>23</th>\n",
       "      <td>201405160027</td>\n",
       "      <td>0.325327</td>\n",
       "      <td>331073827</td>\n",
       "    </tr>\n",
       "    <tr>\n",
       "      <th>24</th>\n",
       "      <td>201511100001</td>\n",
       "      <td>0.320333</td>\n",
       "      <td>331134446</td>\n",
       "    </tr>\n",
       "    <tr>\n",
       "      <th>25</th>\n",
       "      <td>201402250072</td>\n",
       "      <td>0.304674</td>\n",
       "      <td>331102903</td>\n",
       "    </tr>\n",
       "    <tr>\n",
       "      <th>26</th>\n",
       "      <td>201505020095</td>\n",
       "      <td>0.301707</td>\n",
       "      <td>331073827</td>\n",
       "    </tr>\n",
       "    <tr>\n",
       "      <th>27</th>\n",
       "      <td>201411160018</td>\n",
       "      <td>0.301182</td>\n",
       "      <td>331073827</td>\n",
       "    </tr>\n",
       "    <tr>\n",
       "      <th>28</th>\n",
       "      <td>201402220032</td>\n",
       "      <td>None</td>\n",
       "      <td>None</td>\n",
       "    </tr>\n",
       "    <tr>\n",
       "      <th>29</th>\n",
       "      <td>201503020038</td>\n",
       "      <td>None</td>\n",
       "      <td>None</td>\n",
       "    </tr>\n",
       "    <tr>\n",
       "      <th>...</th>\n",
       "      <td>...</td>\n",
       "      <td>...</td>\n",
       "      <td>...</td>\n",
       "    </tr>\n",
       "    <tr>\n",
       "      <th>70</th>\n",
       "      <td>201511180052</td>\n",
       "      <td>NaN</td>\n",
       "      <td>NaN</td>\n",
       "    </tr>\n",
       "    <tr>\n",
       "      <th>71</th>\n",
       "      <td>201409270049</td>\n",
       "      <td>NaN</td>\n",
       "      <td>NaN</td>\n",
       "    </tr>\n",
       "    <tr>\n",
       "      <th>72</th>\n",
       "      <td>201510270001</td>\n",
       "      <td>NaN</td>\n",
       "      <td>NaN</td>\n",
       "    </tr>\n",
       "    <tr>\n",
       "      <th>73</th>\n",
       "      <td>201402270016</td>\n",
       "      <td>NaN</td>\n",
       "      <td>NaN</td>\n",
       "    </tr>\n",
       "    <tr>\n",
       "      <th>74</th>\n",
       "      <td>201408200013</td>\n",
       "      <td>NaN</td>\n",
       "      <td>NaN</td>\n",
       "    </tr>\n",
       "    <tr>\n",
       "      <th>75</th>\n",
       "      <td>201505250019</td>\n",
       "      <td>NaN</td>\n",
       "      <td>NaN</td>\n",
       "    </tr>\n",
       "    <tr>\n",
       "      <th>76</th>\n",
       "      <td>201505290069</td>\n",
       "      <td>NaN</td>\n",
       "      <td>NaN</td>\n",
       "    </tr>\n",
       "    <tr>\n",
       "      <th>77</th>\n",
       "      <td>201502260054</td>\n",
       "      <td>NaN</td>\n",
       "      <td>NaN</td>\n",
       "    </tr>\n",
       "    <tr>\n",
       "      <th>78</th>\n",
       "      <td>201507060063</td>\n",
       "      <td>NaN</td>\n",
       "      <td>NaN</td>\n",
       "    </tr>\n",
       "    <tr>\n",
       "      <th>79</th>\n",
       "      <td>201503070054</td>\n",
       "      <td>NaN</td>\n",
       "      <td>NaN</td>\n",
       "    </tr>\n",
       "    <tr>\n",
       "      <th>80</th>\n",
       "      <td>201412020072</td>\n",
       "      <td>NaN</td>\n",
       "      <td>NaN</td>\n",
       "    </tr>\n",
       "    <tr>\n",
       "      <th>81</th>\n",
       "      <td>201512220020</td>\n",
       "      <td>NaN</td>\n",
       "      <td>NaN</td>\n",
       "    </tr>\n",
       "    <tr>\n",
       "      <th>82</th>\n",
       "      <td>201507230071</td>\n",
       "      <td>NaN</td>\n",
       "      <td>NaN</td>\n",
       "    </tr>\n",
       "    <tr>\n",
       "      <th>83</th>\n",
       "      <td>201502130040</td>\n",
       "      <td>NaN</td>\n",
       "      <td>NaN</td>\n",
       "    </tr>\n",
       "    <tr>\n",
       "      <th>84</th>\n",
       "      <td>201512070022</td>\n",
       "      <td>NaN</td>\n",
       "      <td>NaN</td>\n",
       "    </tr>\n",
       "    <tr>\n",
       "      <th>85</th>\n",
       "      <td>201405040015</td>\n",
       "      <td>NaN</td>\n",
       "      <td>NaN</td>\n",
       "    </tr>\n",
       "    <tr>\n",
       "      <th>86</th>\n",
       "      <td>201504200080</td>\n",
       "      <td>NaN</td>\n",
       "      <td>NaN</td>\n",
       "    </tr>\n",
       "    <tr>\n",
       "      <th>87</th>\n",
       "      <td>201502110098</td>\n",
       "      <td>NaN</td>\n",
       "      <td>NaN</td>\n",
       "    </tr>\n",
       "    <tr>\n",
       "      <th>88</th>\n",
       "      <td>201408050079</td>\n",
       "      <td>NaN</td>\n",
       "      <td>NaN</td>\n",
       "    </tr>\n",
       "    <tr>\n",
       "      <th>89</th>\n",
       "      <td>201408090020</td>\n",
       "      <td>NaN</td>\n",
       "      <td>NaN</td>\n",
       "    </tr>\n",
       "    <tr>\n",
       "      <th>90</th>\n",
       "      <td>201510300069</td>\n",
       "      <td>NaN</td>\n",
       "      <td>NaN</td>\n",
       "    </tr>\n",
       "    <tr>\n",
       "      <th>91</th>\n",
       "      <td>201511110066</td>\n",
       "      <td>NaN</td>\n",
       "      <td>NaN</td>\n",
       "    </tr>\n",
       "    <tr>\n",
       "      <th>92</th>\n",
       "      <td>201403140021</td>\n",
       "      <td>NaN</td>\n",
       "      <td>NaN</td>\n",
       "    </tr>\n",
       "    <tr>\n",
       "      <th>93</th>\n",
       "      <td>201405210055</td>\n",
       "      <td>NaN</td>\n",
       "      <td>NaN</td>\n",
       "    </tr>\n",
       "    <tr>\n",
       "      <th>94</th>\n",
       "      <td>201505030097</td>\n",
       "      <td>NaN</td>\n",
       "      <td>NaN</td>\n",
       "    </tr>\n",
       "    <tr>\n",
       "      <th>95</th>\n",
       "      <td>201409070051</td>\n",
       "      <td>NaN</td>\n",
       "      <td>NaN</td>\n",
       "    </tr>\n",
       "    <tr>\n",
       "      <th>96</th>\n",
       "      <td>201512110058</td>\n",
       "      <td>NaN</td>\n",
       "      <td>NaN</td>\n",
       "    </tr>\n",
       "    <tr>\n",
       "      <th>97</th>\n",
       "      <td>201511020013</td>\n",
       "      <td>NaN</td>\n",
       "      <td>NaN</td>\n",
       "    </tr>\n",
       "    <tr>\n",
       "      <th>98</th>\n",
       "      <td>201407170030</td>\n",
       "      <td>NaN</td>\n",
       "      <td>NaN</td>\n",
       "    </tr>\n",
       "    <tr>\n",
       "      <th>99</th>\n",
       "      <td>201407020018</td>\n",
       "      <td>NaN</td>\n",
       "      <td>NaN</td>\n",
       "    </tr>\n",
       "  </tbody>\n",
       "</table>\n",
       "<p>100 rows × 3 columns</p>\n",
       "</div>"
      ],
      "text/plain": [
       "             GTD    Scores      GDELT\n",
       "0   201501080044   0.79047  331086010\n",
       "1   201402040024  0.498219  331102903\n",
       "2   201503200010  0.496556  331148729\n",
       "3   201401270026  0.494605  331069193\n",
       "4   201405190045  0.493954  330998638\n",
       "5   201412040001  0.491366  331073827\n",
       "6   201409210036  0.489861  331148729\n",
       "7   201408260087  0.470348  331104369\n",
       "8   201401090010  0.470348  331104369\n",
       "9   201401160046  0.461567  331073827\n",
       "10  201412130001  0.461166  331073827\n",
       "11  201512080013  0.459884  331073827\n",
       "12  201402030049  0.458959  331102903\n",
       "13  201409170069  0.448545  331073827\n",
       "14  201505220025  0.438049  331102903\n",
       "15  201407200035  0.429032  331060534\n",
       "16  201502030096  0.426164  331103981\n",
       "17  201408250022  0.400668  331060534\n",
       "18  201412240033  0.395235  331011488\n",
       "19  201502100001  0.390711  331073827\n",
       "20  201503050003  0.390703  331073827\n",
       "21  201409300040  0.374212  331073827\n",
       "22  201412210034  0.331051  331073827\n",
       "23  201405160027  0.325327  331073827\n",
       "24  201511100001  0.320333  331134446\n",
       "25  201402250072  0.304674  331102903\n",
       "26  201505020095  0.301707  331073827\n",
       "27  201411160018  0.301182  331073827\n",
       "28  201402220032      None       None\n",
       "29  201503020038      None       None\n",
       "..           ...       ...        ...\n",
       "70  201511180052       NaN        NaN\n",
       "71  201409270049       NaN        NaN\n",
       "72  201510270001       NaN        NaN\n",
       "73  201402270016       NaN        NaN\n",
       "74  201408200013       NaN        NaN\n",
       "75  201505250019       NaN        NaN\n",
       "76  201505290069       NaN        NaN\n",
       "77  201502260054       NaN        NaN\n",
       "78  201507060063       NaN        NaN\n",
       "79  201503070054       NaN        NaN\n",
       "80  201412020072       NaN        NaN\n",
       "81  201512220020       NaN        NaN\n",
       "82  201507230071       NaN        NaN\n",
       "83  201502130040       NaN        NaN\n",
       "84  201512070022       NaN        NaN\n",
       "85  201405040015       NaN        NaN\n",
       "86  201504200080       NaN        NaN\n",
       "87  201502110098       NaN        NaN\n",
       "88  201408050079       NaN        NaN\n",
       "89  201408090020       NaN        NaN\n",
       "90  201510300069       NaN        NaN\n",
       "91  201511110066       NaN        NaN\n",
       "92  201403140021       NaN        NaN\n",
       "93  201405210055       NaN        NaN\n",
       "94  201505030097       NaN        NaN\n",
       "95  201409070051       NaN        NaN\n",
       "96  201512110058       NaN        NaN\n",
       "97  201511020013       NaN        NaN\n",
       "98  201407170030       NaN        NaN\n",
       "99  201407020018       NaN        NaN\n",
       "\n",
       "[100 rows x 3 columns]"
      ]
     },
     "execution_count": 164,
     "metadata": {},
     "output_type": "execute_result"
    }
   ],
   "source": [
    "gtdids= zip(*top200)[0]; scores = zip(*zip(*top200)[1])[0]; gdeltids=zip(*zip(*top200)[1])[1]\n",
    "report = pd.DataFrame({\"GTD\": gtdids, \"Scores\": scores, \"GDELT\": gdeltids})\n",
    "report [[\"GTD\", \"Scores\", \"GDELT\"]]"
   ]
  },
  {
   "cell_type": "code",
   "execution_count": null,
   "metadata": {
    "collapsed": false
   },
   "outputs": [],
   "source": []
  },
  {
   "cell_type": "code",
   "execution_count": 157,
   "metadata": {
    "collapsed": false
   },
   "outputs": [],
   "source": []
  },
  {
   "cell_type": "code",
   "execution_count": null,
   "metadata": {
    "collapsed": false
   },
   "outputs": [],
   "source": []
  },
  {
   "cell_type": "code",
   "execution_count": null,
   "metadata": {
    "collapsed": true
   },
   "outputs": [],
   "source": []
  }
 ],
 "metadata": {
  "kernelspec": {
   "display_name": "Python 2",
   "language": "python",
   "name": "python2"
  },
  "language_info": {
   "codemirror_mode": {
    "name": "ipython",
    "version": 2
   },
   "file_extension": ".py",
   "mimetype": "text/x-python",
   "name": "python",
   "nbconvert_exporter": "python",
   "pygments_lexer": "ipython2",
   "version": "2.7.11"
  }
 },
 "nbformat": 4,
 "nbformat_minor": 0
}
