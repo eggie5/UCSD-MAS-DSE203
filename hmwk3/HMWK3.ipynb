{
 "cells": [
  {
   "cell_type": "markdown",
   "metadata": {},
   "source": [
    "# Data Matching\n",
    "\n",
    "A major topic of ETL is string matching and data matching. While string matching returns a simularity score between two strings, data matching returning a simularity between two two tuples (rows) in a database. For example, we would like to determine whether the tuples `(David Smith, 608-245-4367, Madison WI)` and `(D. M. Smith, 245-4367, Madison WI)` refer to the same person.\n",
    "\n",
    "The problem of data matching arises in many integration situations. In the simplest case, we may be merging multiple databases with identical schemas, but without a unique global ID, and want to decide which rows are duplicates. The problem is complicated when we need to join rows from sources that have different schemas. Data matching may also arise at query time. For example, a query may often imprecisely refer to a particular data item, e.g., a query asking for the phone number of a David Smith who lives in Madison. We need to employ data matching techniques to decide which tuples in the database match the query.\n",
    "\n",
    "In this project, we will complete a cross-dataset join across two terrorism databases w/ differnent schemas: GTD and GDELT.\n",
    "\n",
    "## Techniques\n",
    "\n",
    "We cover several classes of solutions to the data matching problem. The first kind employs handcrafted rules, or **Rule-based Matching** to match tuples. These techniques typically make heavy use of domain-specific knowledge in domains where the complexity of the rules is manageable. The next kind of solution, **Learning-based Matching** learns the appropriate rules from labeled examples, using supervised learning. The third kind, **clustering** does not use training data. Instead, it iteratively assigns tuples to clusters, such that all tuples within a single cluster match and those across clusters do not."
   ]
  },
  {
   "cell_type": "code",
   "execution_count": 1,
   "metadata": {
    "collapsed": false
   },
   "outputs": [
    {
     "name": "stdout",
     "output_type": "stream",
     "text": [
      "Populating the interactive namespace from numpy and matplotlib\n"
     ]
    }
   ],
   "source": [
    "import pandas as pd\n",
    "import time\n",
    "%pylab inline"
   ]
  },
  {
   "cell_type": "markdown",
   "metadata": {},
   "source": [
    "## Data\n",
    "\n",
    "Load the two datasets"
   ]
  },
  {
   "cell_type": "code",
   "execution_count": 2,
   "metadata": {
    "collapsed": true
   },
   "outputs": [],
   "source": [
    "gtd=pd.read_excel(\"data/gtd_12to15_0616dist.xlsx\")"
   ]
  },
  {
   "cell_type": "code",
   "execution_count": 3,
   "metadata": {
    "collapsed": false
   },
   "outputs": [
    {
     "name": "stderr",
     "output_type": "stream",
     "text": [
      "/usr/local/lib/python2.7/site-packages/IPython/core/interactiveshell.py:2902: DtypeWarning: Columns (8,9,10,11,14,19) have mixed types. Specify dtype option on import or set low_memory=False.\n",
      "  interactivity=interactivity, compiler=compiler, result=result)\n"
     ]
    }
   ],
   "source": [
    "headers = pd.read_excel(\"data/GDELT Metadata.xlsx\").columns.values\n",
    "gdelt = pd.read_csv(\"data/20150108.export.txt\", delimiter=\"\\t\", names=headers, parse_dates=[\"Day\"])"
   ]
  },
  {
   "cell_type": "markdown",
   "metadata": {},
   "source": [
    "### Cleaning\n",
    "\n",
    "Remove tuples where lat/lng or date is na"
   ]
  },
  {
   "cell_type": "code",
   "execution_count": 4,
   "metadata": {
    "collapsed": false
   },
   "outputs": [],
   "source": [
    "gtd = gtd.dropna(subset=['latitude', 'longitude', 'iday'])\n",
    "gdelt = gdelt.dropna(subset=[\"ActionGeo_Lat\", \"ActionGeo_Long\", \"Day\"])"
   ]
  },
  {
   "cell_type": "markdown",
   "metadata": {
    "collapsed": false
   },
   "source": [
    "## Common Years\n",
    "\n",
    "The two datasets intersect for years 2014-2015"
   ]
  },
  {
   "cell_type": "code",
   "execution_count": 5,
   "metadata": {
    "collapsed": false
   },
   "outputs": [
    {
     "data": {
      "text/plain": [
       "2014    16737\n",
       "2015    14712\n",
       "2013    11892\n",
       "2012     8448\n",
       "Name: iyear, dtype: int64"
      ]
     },
     "execution_count": 5,
     "metadata": {},
     "output_type": "execute_result"
    }
   ],
   "source": [
    "gtd.iyear.value_counts()"
   ]
  },
  {
   "cell_type": "markdown",
   "metadata": {},
   "source": [
    "The years in GDLET are distributed strangly:"
   ]
  },
  {
   "cell_type": "code",
   "execution_count": 6,
   "metadata": {
    "collapsed": false
   },
   "outputs": [
    {
     "data": {
      "text/plain": [
       "2015    155997\n",
       "2014      2744\n",
       "2005        44\n",
       "Name: Year, dtype: int64"
      ]
     },
     "execution_count": 6,
     "metadata": {},
     "output_type": "execute_result"
    }
   ],
   "source": [
    "gdelt.Year.value_counts()"
   ]
  },
  {
   "cell_type": "code",
   "execution_count": 7,
   "metadata": {
    "collapsed": false
   },
   "outputs": [
    {
     "data": {
      "text/plain": [
       "{2014, 2015}"
      ]
     },
     "execution_count": 7,
     "metadata": {},
     "output_type": "execute_result"
    }
   ],
   "source": [
    "set(gtd.iyear).intersection(set(gdelt.Year))"
   ]
  },
  {
   "cell_type": "markdown",
   "metadata": {},
   "source": [
    "Filter for 2015"
   ]
  },
  {
   "cell_type": "code",
   "execution_count": 8,
   "metadata": {
    "collapsed": false
   },
   "outputs": [],
   "source": [
    "#limit query to year 2015 b/c both datasest have full 2015 data\n",
    "gtdf = gtd[(gtd.iyear==2015) | (gtd.iyear==2014)]\n",
    "gdeltf=gdelt[(gdelt.Year==2015) | (gdelt.Year==2014)].sample(10000) #sampling a subset of the data for fast testing"
   ]
  },
  {
   "cell_type": "markdown",
   "metadata": {},
   "source": [
    "# Rule-Based Matching\n",
    "\n",
    "## Common Columns\n",
    "\n",
    "We need to define the mapping between the columns that are in common between the two datasets.\n",
    "\n",
    "I could only identify 2 columns that map GTD to GDELT. Key is GTD column Value is GDELT column\n",
    "\n",
    "* iyear/imonth/iday : Day - convert to int seconds and measure euclidian distance\n",
    "* latitude/longitude : ActionGeo_Lat/ActionGeo_Long - convert to 2D vector and measure euclidian distance"
   ]
  },
  {
   "cell_type": "markdown",
   "metadata": {},
   "source": [
    "# Simularity Metric\n",
    "\n",
    "We begin by covering approaches that employ handcrafted matching rules. A simple yet popular type of rule computes the similarity score between a pair of tuples $x$ and $y$ as a *linearly weighted combination* of the individual similarity scores:\n",
    "\n",
    "$$\n",
    "\\DeclareMathOperator*{\\argmax}{\\arg\\!\\max}\\\\\n",
    "sim(x, y) = \\sum_{i=1}^n \\alpha_i sim_i(x,y)\\\\\n",
    "match(GTD, GDELT) = \\argmax(sim(GTD_n, GDELT))\\\\\n",
    "$$\n",
    "\n",
    "where $n$ is the number of common coloumns between tables $X$ and $Y$ (in this case 2), $s_i(x,y) ∈ [0,1]$ is a similarity score between the $i$th attributes of $x$ and $y$, and $\\alpha_i ∈ [0, 1]$ is a prespecified weight that indicates the importance of the $i$th attribute to the overall similarity score, such that 􏰈$\\Sigma_{i=1}^n \\alpha_i = 1$. We declare $x$ and $y$ matched if $sim(x,y) ≥ β$ for a prespecified threshold $β$, and not matched otherwise."
   ]
  },
  {
   "cell_type": "markdown",
   "metadata": {},
   "source": [
    "## Python Implementation\n",
    "\n",
    "### Lat/Lng\n",
    "\n",
    "First we take each lat/lng and put them in a 2D vector format so we can take the euclidian disantace.\n",
    "\n",
    "### Date\n",
    "\n",
    "We take the date data from each touple and put it in native python `datetime` format. Then we convert each `datetime` into an integer representing the seconds from the epoch. We can then take the euclidian distance between two `datetimes`.\n",
    "\n",
    "## Computational Complexity\n",
    "\n",
    "This routine is a loop in a loop: O(n^2) growth complexity with 5,150,259,916 computations to run if we limit search to 2014-2015."
   ]
  },
  {
   "cell_type": "code",
   "execution_count": 9,
   "metadata": {
    "collapsed": false
   },
   "outputs": [
    {
     "name": "stdout",
     "output_type": "stream",
     "text": [
      "((31449, 137), (10000, 58))\n"
     ]
    },
    {
     "data": {
      "text/plain": [
       "314490000"
      ]
     },
     "execution_count": 9,
     "metadata": {},
     "output_type": "execute_result"
    }
   ],
   "source": [
    "print (gtdf.shape, gdeltf.shape)\n",
    "gtdf.shape[0] * gdeltf.shape[0]"
   ]
  },
  {
   "cell_type": "code",
   "execution_count": 10,
   "metadata": {
    "collapsed": true
   },
   "outputs": [],
   "source": [
    "#python implemention of the sim function above w/ 2 matching rules for lat/lng and date\n",
    "#arguments are pandas series (row) from each database\n",
    "def sim(target, match):\n",
    "    sim = 0\n",
    "\n",
    "    latlng_sim = sim_latlng(target, match)\n",
    "    sim += (W_LATLNG * latlng_sim)\n",
    "    \n",
    "    date_sim = sim_date(target, match)\n",
    "    sim += (W_DATE * date_sim)\n",
    "    \n",
    "    return sim"
   ]
  },
  {
   "cell_type": "code",
   "execution_count": 11,
   "metadata": {
    "collapsed": false
   },
   "outputs": [],
   "source": [
    "#define lat/lng sim function\n",
    "#expect 2 1x2 numpy arrays\n",
    "def sim_latlng(target, match):\n",
    "    target_latlng = np.array(target[[\"latitude\", \"longitude\"]].values)\n",
    "    \n",
    "    match_latlng = np.array(match[[\"ActionGeo_Lat\", \"ActionGeo_Long\"]].values)\n",
    "    \n",
    "    sim = euclid_sim(target_latlng, match_latlng)\n",
    "    \n",
    "    return sim"
   ]
  },
  {
   "cell_type": "code",
   "execution_count": 12,
   "metadata": {
    "collapsed": false
   },
   "outputs": [],
   "source": [
    "#try to match on date\n",
    "#2  integers represeignn seconds from th epoch\n",
    "def sim_date(target, match):\n",
    "    target_date_parts = target[[\"iyear\", \"imonth\", \"iday\"]].values\n",
    "    target_date = datetime.datetime(target_date_parts[0], target_date_parts[1], target_date_parts[2])\n",
    "    target_seconds = (target_date - EPOCH).total_seconds()\n",
    "    \n",
    "    match_date = match[\"Day\"]\n",
    "    match_seconds = (match_date - EPOCH).total_seconds()\n",
    "    \n",
    "    sim = euclid_sim(target_seconds, match_seconds)\n",
    "    return sim"
   ]
  },
  {
   "cell_type": "code",
   "execution_count": 13,
   "metadata": {
    "collapsed": false
   },
   "outputs": [],
   "source": [
    "def euclid_sim(a,b):\n",
    "    dist = numpy.linalg.norm(a-b)\n",
    "    prob = 1 / (1 + dist)\n",
    "    return prob"
   ]
  },
  {
   "cell_type": "code",
   "execution_count": 14,
   "metadata": {
    "collapsed": false
   },
   "outputs": [],
   "source": [
    "#utiltiy method to print match result\n",
    "def print_table(gtd, gdelt, score):\n",
    "    gtd_vals=[]\n",
    "    gdelt_vals=[]\n",
    "    \n",
    "    #latlng\n",
    "    gtd_vals.append(gtd[[\"latitude\", \"longitude\"]].values)\n",
    "    gdelt_vals.append(gdelt[[\"ActionGeo_Lat\", \"ActionGeo_Long\"]].values)\n",
    "    \n",
    "    #date\n",
    "    target_date_parts = gtd[[\"iyear\", \"imonth\", \"iday\"]].values\n",
    "    gtd_vals.append(datetime.datetime(target_date_parts[0], target_date_parts[1], target_date_parts[2]))\n",
    "    gdelt_vals.append(datetime.datetime.strptime(str(gdelt[[\"Day\"]][0]), \"%Y%m%d\"))\n",
    "    \n",
    "    #ids \n",
    "    gtd_vals.append(gtd.eventid)\n",
    "    gdelt_vals.append(gdelt.GlobalEventID)\n",
    "    \n",
    "    t_dict = {\"0cols\": [\"lat/lng\", \"date\", \"id\"], \"1GTD\": gtd_vals, \"GDELT\": gdelt_vals, \"Score\": score}\n",
    "    df = pd.DataFrame(t_dict)\n",
    "    return df"
   ]
  },
  {
   "cell_type": "markdown",
   "metadata": {},
   "source": [
    "## Results\n",
    "\n",
    "Here we iterate thought our targets in GTD and then compare against each candidate match in GDELT and return the closest match. A match is defined as the highest score which is computed by `nanargmax` below. We can also configure our weights here too:"
   ]
  },
  {
   "cell_type": "code",
   "execution_count": 15,
   "metadata": {
    "collapsed": false
   },
   "outputs": [
    {
     "name": "stdout",
     "output_type": "stream",
     "text": [
      "CPU times: user 1h 25min 51s, sys: 42.9 s, total: 1h 26min 34s\n",
      "Wall time: 1h 26min 17s\n"
     ]
    }
   ],
   "source": [
    "%%time\n",
    "\n",
    "#weights should sum to 1\n",
    "W_LATLNG=0.5\n",
    "W_DATE=0.5\n",
    "EPOCH = datetime.datetime.utcfromtimestamp(0)\n",
    "\n",
    "# threshold (beta)\n",
    "THRESHOLD = 0.4\n",
    "\n",
    "#choose what tuples of GTD you want to match against\n",
    "targets = gtdf.sample(500)\n",
    "matches = {}\n",
    "\n",
    "for _, target in targets.iterrows(): \n",
    "    scores = []\n",
    "    for _, row in gdeltf.iterrows():\n",
    "        score = sim(target, row)\n",
    "        scores.append(score)\n",
    "\n",
    "    i = np.nanargmax(scores)\n",
    "    high_score = scores[i]\n",
    "    #if above thershold, consider match\n",
    "    if high_score >= THRESHOLD:\n",
    "        match = gdeltf.iloc[i]\n",
    "        matches[target.eventid] = (high_score, match.GlobalEventID)\n",
    "    else:\n",
    "        matches[target.eventid] = (None, None)\n",
    "        pass\n"
   ]
  },
  {
   "cell_type": "markdown",
   "metadata": {
    "collapsed": false
   },
   "source": [
    "## Report\n",
    "\n",
    "Print out top 200 matches by score"
   ]
  },
  {
   "cell_type": "code",
   "execution_count": 16,
   "metadata": {
    "collapsed": false
   },
   "outputs": [],
   "source": [
    "sorted_matches = sorted(matches.items(), key=lambda x: x[1][0], reverse=True)\n",
    "top200 = sorted_matches[0:200]"
   ]
  },
  {
   "cell_type": "code",
   "execution_count": 17,
   "metadata": {
    "collapsed": false
   },
   "outputs": [
    {
     "data": {
      "text/html": [
       "<div>\n",
       "<table border=\"1\" class=\"dataframe\">\n",
       "  <thead>\n",
       "    <tr style=\"text-align: right;\">\n",
       "      <th></th>\n",
       "      <th>GTD</th>\n",
       "      <th>Score</th>\n",
       "      <th>GDELT</th>\n",
       "    </tr>\n",
       "  </thead>\n",
       "  <tbody>\n",
       "    <tr>\n",
       "      <th>0</th>\n",
       "      <td>201501010008</td>\n",
       "      <td>0.617994</td>\n",
       "      <td>330990526</td>\n",
       "    </tr>\n",
       "    <tr>\n",
       "      <th>1</th>\n",
       "      <td>201412090020</td>\n",
       "      <td>0.609614</td>\n",
       "      <td>330989573</td>\n",
       "    </tr>\n",
       "    <tr>\n",
       "      <th>2</th>\n",
       "      <td>201412090006</td>\n",
       "      <td>0.551830</td>\n",
       "      <td>330989430</td>\n",
       "    </tr>\n",
       "    <tr>\n",
       "      <th>3</th>\n",
       "      <td>201501010077</td>\n",
       "      <td>0.541454</td>\n",
       "      <td>330990496</td>\n",
       "    </tr>\n",
       "    <tr>\n",
       "      <th>4</th>\n",
       "      <td>201411180042</td>\n",
       "      <td>0.499862</td>\n",
       "      <td>331083516</td>\n",
       "    </tr>\n",
       "    <tr>\n",
       "      <th>5</th>\n",
       "      <td>201404210014</td>\n",
       "      <td>0.499496</td>\n",
       "      <td>330990068</td>\n",
       "    </tr>\n",
       "    <tr>\n",
       "      <th>6</th>\n",
       "      <td>201511090026</td>\n",
       "      <td>0.499128</td>\n",
       "      <td>331096931</td>\n",
       "    </tr>\n",
       "    <tr>\n",
       "      <th>7</th>\n",
       "      <td>201501260068</td>\n",
       "      <td>0.499093</td>\n",
       "      <td>331104656</td>\n",
       "    </tr>\n",
       "    <tr>\n",
       "      <th>8</th>\n",
       "      <td>201408100032</td>\n",
       "      <td>0.498427</td>\n",
       "      <td>331148592</td>\n",
       "    </tr>\n",
       "    <tr>\n",
       "      <th>9</th>\n",
       "      <td>201512060008</td>\n",
       "      <td>0.498275</td>\n",
       "      <td>331108731</td>\n",
       "    </tr>\n",
       "    <tr>\n",
       "      <th>10</th>\n",
       "      <td>201412210038</td>\n",
       "      <td>0.498264</td>\n",
       "      <td>331022987</td>\n",
       "    </tr>\n",
       "    <tr>\n",
       "      <th>11</th>\n",
       "      <td>201407070004</td>\n",
       "      <td>0.498139</td>\n",
       "      <td>331084197</td>\n",
       "    </tr>\n",
       "    <tr>\n",
       "      <th>12</th>\n",
       "      <td>201403240044</td>\n",
       "      <td>0.498036</td>\n",
       "      <td>331074437</td>\n",
       "    </tr>\n",
       "    <tr>\n",
       "      <th>13</th>\n",
       "      <td>201501130003</td>\n",
       "      <td>0.498001</td>\n",
       "      <td>331074412</td>\n",
       "    </tr>\n",
       "    <tr>\n",
       "      <th>14</th>\n",
       "      <td>201501160055</td>\n",
       "      <td>0.497957</td>\n",
       "      <td>331008687</td>\n",
       "    </tr>\n",
       "    <tr>\n",
       "      <th>15</th>\n",
       "      <td>201507240015</td>\n",
       "      <td>0.497317</td>\n",
       "      <td>331112492</td>\n",
       "    </tr>\n",
       "    <tr>\n",
       "      <th>16</th>\n",
       "      <td>201501110061</td>\n",
       "      <td>0.497297</td>\n",
       "      <td>331066145</td>\n",
       "    </tr>\n",
       "    <tr>\n",
       "      <th>17</th>\n",
       "      <td>201510290080</td>\n",
       "      <td>0.497295</td>\n",
       "      <td>331039996</td>\n",
       "    </tr>\n",
       "    <tr>\n",
       "      <th>18</th>\n",
       "      <td>201405290016</td>\n",
       "      <td>0.497102</td>\n",
       "      <td>331086130</td>\n",
       "    </tr>\n",
       "    <tr>\n",
       "      <th>19</th>\n",
       "      <td>201403140058</td>\n",
       "      <td>0.496952</td>\n",
       "      <td>331117093</td>\n",
       "    </tr>\n",
       "    <tr>\n",
       "      <th>20</th>\n",
       "      <td>201502020051</td>\n",
       "      <td>0.496937</td>\n",
       "      <td>330988292</td>\n",
       "    </tr>\n",
       "    <tr>\n",
       "      <th>21</th>\n",
       "      <td>201506180023</td>\n",
       "      <td>0.496807</td>\n",
       "      <td>331074437</td>\n",
       "    </tr>\n",
       "    <tr>\n",
       "      <th>22</th>\n",
       "      <td>201405130091</td>\n",
       "      <td>0.496807</td>\n",
       "      <td>331074437</td>\n",
       "    </tr>\n",
       "    <tr>\n",
       "      <th>23</th>\n",
       "      <td>201407240038</td>\n",
       "      <td>0.496598</td>\n",
       "      <td>331148592</td>\n",
       "    </tr>\n",
       "    <tr>\n",
       "      <th>24</th>\n",
       "      <td>201512150025</td>\n",
       "      <td>0.496497</td>\n",
       "      <td>331028225</td>\n",
       "    </tr>\n",
       "    <tr>\n",
       "      <th>25</th>\n",
       "      <td>201401120031</td>\n",
       "      <td>0.496374</td>\n",
       "      <td>331003071</td>\n",
       "    </tr>\n",
       "    <tr>\n",
       "      <th>26</th>\n",
       "      <td>201506060030</td>\n",
       "      <td>0.496086</td>\n",
       "      <td>331097860</td>\n",
       "    </tr>\n",
       "    <tr>\n",
       "      <th>27</th>\n",
       "      <td>201408010059</td>\n",
       "      <td>0.495985</td>\n",
       "      <td>330990526</td>\n",
       "    </tr>\n",
       "    <tr>\n",
       "      <th>28</th>\n",
       "      <td>201502040108</td>\n",
       "      <td>0.495923</td>\n",
       "      <td>331041329</td>\n",
       "    </tr>\n",
       "    <tr>\n",
       "      <th>29</th>\n",
       "      <td>201502190057</td>\n",
       "      <td>0.495860</td>\n",
       "      <td>331114672</td>\n",
       "    </tr>\n",
       "    <tr>\n",
       "      <th>...</th>\n",
       "      <td>...</td>\n",
       "      <td>...</td>\n",
       "      <td>...</td>\n",
       "    </tr>\n",
       "    <tr>\n",
       "      <th>170</th>\n",
       "      <td>201503020084</td>\n",
       "      <td>0.438656</td>\n",
       "      <td>331025816</td>\n",
       "    </tr>\n",
       "    <tr>\n",
       "      <th>171</th>\n",
       "      <td>201505260068</td>\n",
       "      <td>0.438103</td>\n",
       "      <td>331074437</td>\n",
       "    </tr>\n",
       "    <tr>\n",
       "      <th>172</th>\n",
       "      <td>201412240066</td>\n",
       "      <td>0.437735</td>\n",
       "      <td>331041329</td>\n",
       "    </tr>\n",
       "    <tr>\n",
       "      <th>173</th>\n",
       "      <td>201506200032</td>\n",
       "      <td>0.436737</td>\n",
       "      <td>331116778</td>\n",
       "    </tr>\n",
       "    <tr>\n",
       "      <th>174</th>\n",
       "      <td>201402010056</td>\n",
       "      <td>0.435992</td>\n",
       "      <td>331042623</td>\n",
       "    </tr>\n",
       "    <tr>\n",
       "      <th>175</th>\n",
       "      <td>201403240064</td>\n",
       "      <td>0.435727</td>\n",
       "      <td>331041329</td>\n",
       "    </tr>\n",
       "    <tr>\n",
       "      <th>176</th>\n",
       "      <td>201408080074</td>\n",
       "      <td>0.435076</td>\n",
       "      <td>331084037</td>\n",
       "    </tr>\n",
       "    <tr>\n",
       "      <th>177</th>\n",
       "      <td>201501030035</td>\n",
       "      <td>0.429521</td>\n",
       "      <td>330990526</td>\n",
       "    </tr>\n",
       "    <tr>\n",
       "      <th>178</th>\n",
       "      <td>201510050021</td>\n",
       "      <td>0.429007</td>\n",
       "      <td>331013448</td>\n",
       "    </tr>\n",
       "    <tr>\n",
       "      <th>179</th>\n",
       "      <td>201501240098</td>\n",
       "      <td>0.428984</td>\n",
       "      <td>331138274</td>\n",
       "    </tr>\n",
       "    <tr>\n",
       "      <th>180</th>\n",
       "      <td>201512120040</td>\n",
       "      <td>0.428047</td>\n",
       "      <td>331094653</td>\n",
       "    </tr>\n",
       "    <tr>\n",
       "      <th>181</th>\n",
       "      <td>201402230008</td>\n",
       "      <td>0.427269</td>\n",
       "      <td>331095046</td>\n",
       "    </tr>\n",
       "    <tr>\n",
       "      <th>182</th>\n",
       "      <td>201405090016</td>\n",
       "      <td>0.426160</td>\n",
       "      <td>330999770</td>\n",
       "    </tr>\n",
       "    <tr>\n",
       "      <th>183</th>\n",
       "      <td>201410070062</td>\n",
       "      <td>0.425952</td>\n",
       "      <td>331138274</td>\n",
       "    </tr>\n",
       "    <tr>\n",
       "      <th>184</th>\n",
       "      <td>201501050054</td>\n",
       "      <td>0.423761</td>\n",
       "      <td>331008670</td>\n",
       "    </tr>\n",
       "    <tr>\n",
       "      <th>185</th>\n",
       "      <td>201504290050</td>\n",
       "      <td>0.421507</td>\n",
       "      <td>331119377</td>\n",
       "    </tr>\n",
       "    <tr>\n",
       "      <th>186</th>\n",
       "      <td>201502100060</td>\n",
       "      <td>0.420664</td>\n",
       "      <td>331138274</td>\n",
       "    </tr>\n",
       "    <tr>\n",
       "      <th>187</th>\n",
       "      <td>201501200104</td>\n",
       "      <td>0.419158</td>\n",
       "      <td>331119377</td>\n",
       "    </tr>\n",
       "    <tr>\n",
       "      <th>188</th>\n",
       "      <td>201406270035</td>\n",
       "      <td>0.418147</td>\n",
       "      <td>331088604</td>\n",
       "    </tr>\n",
       "    <tr>\n",
       "      <th>189</th>\n",
       "      <td>201404150068</td>\n",
       "      <td>0.416667</td>\n",
       "      <td>331035146</td>\n",
       "    </tr>\n",
       "    <tr>\n",
       "      <th>190</th>\n",
       "      <td>201401160011</td>\n",
       "      <td>0.416419</td>\n",
       "      <td>331104311</td>\n",
       "    </tr>\n",
       "    <tr>\n",
       "      <th>191</th>\n",
       "      <td>201509100035</td>\n",
       "      <td>0.415815</td>\n",
       "      <td>331074437</td>\n",
       "    </tr>\n",
       "    <tr>\n",
       "      <th>192</th>\n",
       "      <td>201503040041</td>\n",
       "      <td>0.415347</td>\n",
       "      <td>330999118</td>\n",
       "    </tr>\n",
       "    <tr>\n",
       "      <th>193</th>\n",
       "      <td>201504050008</td>\n",
       "      <td>0.414459</td>\n",
       "      <td>331074437</td>\n",
       "    </tr>\n",
       "    <tr>\n",
       "      <th>194</th>\n",
       "      <td>201411280005</td>\n",
       "      <td>0.413692</td>\n",
       "      <td>330990526</td>\n",
       "    </tr>\n",
       "    <tr>\n",
       "      <th>195</th>\n",
       "      <td>201505040004</td>\n",
       "      <td>0.413092</td>\n",
       "      <td>331105899</td>\n",
       "    </tr>\n",
       "    <tr>\n",
       "      <th>196</th>\n",
       "      <td>201502150009</td>\n",
       "      <td>0.411574</td>\n",
       "      <td>331077069</td>\n",
       "    </tr>\n",
       "    <tr>\n",
       "      <th>197</th>\n",
       "      <td>201402160094</td>\n",
       "      <td>0.411370</td>\n",
       "      <td>330988241</td>\n",
       "    </tr>\n",
       "    <tr>\n",
       "      <th>198</th>\n",
       "      <td>201501030086</td>\n",
       "      <td>0.409506</td>\n",
       "      <td>331083516</td>\n",
       "    </tr>\n",
       "    <tr>\n",
       "      <th>199</th>\n",
       "      <td>201403270064</td>\n",
       "      <td>0.409165</td>\n",
       "      <td>331088604</td>\n",
       "    </tr>\n",
       "  </tbody>\n",
       "</table>\n",
       "<p>200 rows × 3 columns</p>\n",
       "</div>"
      ],
      "text/plain": [
       "              GTD     Score      GDELT\n",
       "0    201501010008  0.617994  330990526\n",
       "1    201412090020  0.609614  330989573\n",
       "2    201412090006  0.551830  330989430\n",
       "3    201501010077  0.541454  330990496\n",
       "4    201411180042  0.499862  331083516\n",
       "5    201404210014  0.499496  330990068\n",
       "6    201511090026  0.499128  331096931\n",
       "7    201501260068  0.499093  331104656\n",
       "8    201408100032  0.498427  331148592\n",
       "9    201512060008  0.498275  331108731\n",
       "10   201412210038  0.498264  331022987\n",
       "11   201407070004  0.498139  331084197\n",
       "12   201403240044  0.498036  331074437\n",
       "13   201501130003  0.498001  331074412\n",
       "14   201501160055  0.497957  331008687\n",
       "15   201507240015  0.497317  331112492\n",
       "16   201501110061  0.497297  331066145\n",
       "17   201510290080  0.497295  331039996\n",
       "18   201405290016  0.497102  331086130\n",
       "19   201403140058  0.496952  331117093\n",
       "20   201502020051  0.496937  330988292\n",
       "21   201506180023  0.496807  331074437\n",
       "22   201405130091  0.496807  331074437\n",
       "23   201407240038  0.496598  331148592\n",
       "24   201512150025  0.496497  331028225\n",
       "25   201401120031  0.496374  331003071\n",
       "26   201506060030  0.496086  331097860\n",
       "27   201408010059  0.495985  330990526\n",
       "28   201502040108  0.495923  331041329\n",
       "29   201502190057  0.495860  331114672\n",
       "..            ...       ...        ...\n",
       "170  201503020084  0.438656  331025816\n",
       "171  201505260068  0.438103  331074437\n",
       "172  201412240066  0.437735  331041329\n",
       "173  201506200032  0.436737  331116778\n",
       "174  201402010056  0.435992  331042623\n",
       "175  201403240064  0.435727  331041329\n",
       "176  201408080074  0.435076  331084037\n",
       "177  201501030035  0.429521  330990526\n",
       "178  201510050021  0.429007  331013448\n",
       "179  201501240098  0.428984  331138274\n",
       "180  201512120040  0.428047  331094653\n",
       "181  201402230008  0.427269  331095046\n",
       "182  201405090016  0.426160  330999770\n",
       "183  201410070062  0.425952  331138274\n",
       "184  201501050054  0.423761  331008670\n",
       "185  201504290050  0.421507  331119377\n",
       "186  201502100060  0.420664  331138274\n",
       "187  201501200104  0.419158  331119377\n",
       "188  201406270035  0.418147  331088604\n",
       "189  201404150068  0.416667  331035146\n",
       "190  201401160011  0.416419  331104311\n",
       "191  201509100035  0.415815  331074437\n",
       "192  201503040041  0.415347  330999118\n",
       "193  201504050008  0.414459  331074437\n",
       "194  201411280005  0.413692  330990526\n",
       "195  201505040004  0.413092  331105899\n",
       "196  201502150009  0.411574  331077069\n",
       "197  201402160094  0.411370  330988241\n",
       "198  201501030086  0.409506  331083516\n",
       "199  201403270064  0.409165  331088604\n",
       "\n",
       "[200 rows x 3 columns]"
      ]
     },
     "execution_count": 17,
     "metadata": {},
     "output_type": "execute_result"
    }
   ],
   "source": [
    "gtdids= zip(*top200)[0]; scores = zip(*zip(*top200)[1])[0]; gdeltids=zip(*zip(*top200)[1])[1]\n",
    "report = pd.DataFrame({\"GTD\": gtdids, \"Score\": scores, \"GDELT\": gdeltids})\n",
    "report [[\"GTD\", \"Score\", \"GDELT\"]].head(200)"
   ]
  },
  {
   "cell_type": "code",
   "execution_count": null,
   "metadata": {
    "collapsed": true
   },
   "outputs": [],
   "source": []
  }
 ],
 "metadata": {
  "kernelspec": {
   "display_name": "Python 2",
   "language": "python",
   "name": "python2"
  },
  "language_info": {
   "codemirror_mode": {
    "name": "ipython",
    "version": 2
   },
   "file_extension": ".py",
   "mimetype": "text/x-python",
   "name": "python",
   "nbconvert_exporter": "python",
   "pygments_lexer": "ipython2",
   "version": "2.7.11"
  }
 },
 "nbformat": 4,
 "nbformat_minor": 0
}
